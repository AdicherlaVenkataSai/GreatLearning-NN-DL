{
  "nbformat": 4,
  "nbformat_minor": 0,
  "metadata": {
    "colab": {
      "name": "4. DNNwithKeras(MNIST).ipynb",
      "provenance": [],
      "collapsed_sections": [],
      "authorship_tag": "ABX9TyPZha93KokMS+2gJPUuv5IV",
      "include_colab_link": true
    },
    "kernelspec": {
      "name": "python3",
      "display_name": "Python 3"
    },
    "accelerator": "GPU"
  },
  "cells": [
    {
      "cell_type": "markdown",
      "metadata": {
        "id": "view-in-github",
        "colab_type": "text"
      },
      "source": [
        "<a href=\"https://colab.research.google.com/github/AdicherlaVenkataSai/NeuralNetworks/blob/master/4.%20DNNwithKeras(MNIST).ipynb\" target=\"_parent\"><img src=\"https://colab.research.google.com/assets/colab-badge.svg\" alt=\"Open In Colab\"/></a>"
      ]
    },
    {
      "cell_type": "markdown",
      "metadata": {
        "id": "Q-TQbpzMTnNd",
        "colab_type": "text"
      },
      "source": [
        "# Introduction\n",
        "\n",
        "MNIST dataset\n",
        "\n",
        "`https://drive.google.com/file/d/1en861ED1Q-TBaQScN4R8KDqmkkC6FcF-/view?usp=sharing`\n",
        "\n",
        "`https://drive.google.com/file/d/1ojllzzXU7KFLpieB9yrVIQLcK1eFcfGl/view?usp=sharing`\n",
        "\n",
        "__________________________________________________________________________________\n",
        "\n",
        "1. 784 I/P -> 200 -> 100 -> 60 -> 30 -> 10 O/P\n",
        "\n",
        "2. On hidden layers sigmoid is used as an activation function, but for output layer we use softmax activaion function(can convert multiple no's into probabilities)\n",
        "\n",
        "\n"
      ]
    },
    {
      "cell_type": "markdown",
      "metadata": {
        "id": "WVxRlhbKUpQe",
        "colab_type": "text"
      },
      "source": [
        "# Implementation\n",
        "### 0. load tensorflow"
      ]
    },
    {
      "cell_type": "code",
      "metadata": {
        "id": "8OwUOTHvHZBy",
        "colab_type": "code",
        "colab": {}
      },
      "source": [
        "import tensorflow as tf\n",
        "#tf.set_random_seed(58)# produces same random no's if a seed is set"
      ],
      "execution_count": 0,
      "outputs": []
    },
    {
      "cell_type": "markdown",
      "metadata": {
        "id": "zWd9HIhSU91w",
        "colab_type": "text"
      },
      "source": [
        "### 1. load data"
      ]
    },
    {
      "cell_type": "code",
      "metadata": {
        "id": "Yze6cKcaU9EY",
        "colab_type": "code",
        "colab": {
          "base_uri": "https://localhost:8080/",
          "height": 88
        },
        "outputId": "8ab9d5d2-c22e-48fd-f9f6-814aa055a22c"
      },
      "source": [
        "(x_train, y_train), (x_test,y_test)= tf.keras.datasets.mnist.load_data()\n",
        "x_train.shape,y_train.shape, x_test.shape,y_test.shape"
      ],
      "execution_count": 2,
      "outputs": [
        {
          "output_type": "stream",
          "text": [
            "Downloading data from https://storage.googleapis.com/tensorflow/tf-keras-datasets/mnist.npz\n",
            "11493376/11490434 [==============================] - 0s 0us/step\n"
          ],
          "name": "stdout"
        },
        {
          "output_type": "execute_result",
          "data": {
            "text/plain": [
              "((60000, 28, 28), (60000,), (10000, 28, 28), (10000,))"
            ]
          },
          "metadata": {
            "tags": []
          },
          "execution_count": 2
        }
      ]
    },
    {
      "cell_type": "code",
      "metadata": {
        "id": "78Gfi36qWXd1",
        "colab_type": "code",
        "colab": {
          "base_uri": "https://localhost:8080/",
          "height": 34
        },
        "outputId": "97d348f6-400d-497e-c4e2-e3d73b9e168a"
      },
      "source": [
        "y_train[20]"
      ],
      "execution_count": 3,
      "outputs": [
        {
          "output_type": "execute_result",
          "data": {
            "text/plain": [
              "4"
            ]
          },
          "metadata": {
            "tags": []
          },
          "execution_count": 3
        }
      ]
    },
    {
      "cell_type": "markdown",
      "metadata": {
        "id": "oE8HLNcpVymY",
        "colab_type": "text"
      },
      "source": [
        "### 2. Convert output label to multiple valuels(categorical)"
      ]
    },
    {
      "cell_type": "code",
      "metadata": {
        "id": "1UrHwf0KVLvI",
        "colab_type": "code",
        "colab": {}
      },
      "source": [
        "y_train = tf.keras.utils.to_categorical(y_train, num_classes=10)\n",
        "y_test = tf.keras.utils.to_categorical(y_test, num_classes=10)"
      ],
      "execution_count": 0,
      "outputs": []
    },
    {
      "cell_type": "code",
      "metadata": {
        "id": "qAkLSG31WQXg",
        "colab_type": "code",
        "colab": {
          "base_uri": "https://localhost:8080/",
          "height": 34
        },
        "outputId": "8d963f97-9752-43ee-dec2-8cfccabc9b9f"
      },
      "source": [
        "y_train[20]"
      ],
      "execution_count": 5,
      "outputs": [
        {
          "output_type": "execute_result",
          "data": {
            "text/plain": [
              "array([0., 0., 0., 0., 1., 0., 0., 0., 0., 0.], dtype=float32)"
            ]
          },
          "metadata": {
            "tags": []
          },
          "execution_count": 5
        }
      ]
    },
    {
      "cell_type": "markdown",
      "metadata": {
        "id": "ykZxIWKIWqdt",
        "colab_type": "text"
      },
      "source": [
        "note: observe the difference between previous result of y_train[20] and now. The value 4 is one hot encodede into categorical variable and displayed as above(respective position is marked as 1 rest 0) "
      ]
    },
    {
      "cell_type": "markdown",
      "metadata": {
        "id": "Rngc4zB_XD4w",
        "colab_type": "text"
      },
      "source": [
        "### 3. Build the model"
      ]
    },
    {
      "cell_type": "code",
      "metadata": {
        "id": "b_v4fXZEWnW8",
        "colab_type": "code",
        "colab": {}
      },
      "source": [
        "model = tf.keras.models.Sequential()\n",
        "\n",
        "#reshaping 28*28 into 784\n",
        "model.add(tf.keras.layers.Reshape((784,), input_shape = (28, 28,)))\n",
        "\n",
        "#normalising the data\n",
        "model.add(tf.keras.layers.BatchNormalization())\n",
        "\n",
        "#1st hidden layer\n",
        "model.add(tf.keras.layers.Dense(200, activation='sigmoid'))\n",
        "\n",
        "#2st hidden layer\n",
        "model.add(tf.keras.layers.Dense(100, activation='sigmoid'))\n",
        "\n",
        "#3rd hidden layer\n",
        "model.add(tf.keras.layers.Dense(60, activation='sigmoid'))\n",
        "\n",
        "#4th hidden layer\n",
        "model.add(tf.keras.layers.Dense(30, activation='sigmoid'))\n",
        "\n",
        "#Output layer\n",
        "model.add(tf.keras.layers.Dense(10, activation='softmax'))"
      ],
      "execution_count": 0,
      "outputs": []
    },
    {
      "cell_type": "markdown",
      "metadata": {
        "id": "VrliIhh9YciD",
        "colab_type": "text"
      },
      "source": [
        "### 4. Compile the model"
      ]
    },
    {
      "cell_type": "code",
      "metadata": {
        "id": "LR04L0TOXgrO",
        "colab_type": "code",
        "colab": {}
      },
      "source": [
        "model.compile(optimizer = 'adam', loss = 'categorical_crossentropy', metrics = ['accuracy'])"
      ],
      "execution_count": 0,
      "outputs": []
    },
    {
      "cell_type": "markdown",
      "metadata": {
        "id": "v3SJ3FLPZBAL",
        "colab_type": "text"
      },
      "source": [
        "### 5. Review the model"
      ]
    },
    {
      "cell_type": "code",
      "metadata": {
        "id": "4XlPr6ENYvOv",
        "colab_type": "code",
        "colab": {
          "base_uri": "https://localhost:8080/",
          "height": 391
        },
        "outputId": "9ac7990c-c034-42a8-a6ed-16570d8f8725"
      },
      "source": [
        "model.summary()"
      ],
      "execution_count": 8,
      "outputs": [
        {
          "output_type": "stream",
          "text": [
            "Model: \"sequential\"\n",
            "_________________________________________________________________\n",
            "Layer (type)                 Output Shape              Param #   \n",
            "=================================================================\n",
            "reshape (Reshape)            (None, 784)               0         \n",
            "_________________________________________________________________\n",
            "batch_normalization (BatchNo (None, 784)               3136      \n",
            "_________________________________________________________________\n",
            "dense (Dense)                (None, 200)               157000    \n",
            "_________________________________________________________________\n",
            "dense_1 (Dense)              (None, 100)               20100     \n",
            "_________________________________________________________________\n",
            "dense_2 (Dense)              (None, 60)                6060      \n",
            "_________________________________________________________________\n",
            "dense_3 (Dense)              (None, 30)                1830      \n",
            "_________________________________________________________________\n",
            "dense_4 (Dense)              (None, 10)                310       \n",
            "=================================================================\n",
            "Total params: 188,436\n",
            "Trainable params: 186,868\n",
            "Non-trainable params: 1,568\n",
            "_________________________________________________________________\n"
          ],
          "name": "stdout"
        }
      ]
    },
    {
      "cell_type": "markdown",
      "metadata": {
        "id": "ZxbDtx86ZgrJ",
        "colab_type": "text"
      },
      "source": [
        "### 6. Train the model"
      ]
    },
    {
      "cell_type": "code",
      "metadata": {
        "id": "ykvbcV-aZFjL",
        "colab_type": "code",
        "colab": {
          "base_uri": "https://localhost:8080/",
          "height": 1000
        },
        "outputId": "a25c7e96-0ac5-42dc-f11f-18039e9a8950"
      },
      "source": [
        "history = model.fit(x_train, y_train,\n",
        "                    validation_data = (x_test, y_test),\n",
        "                    epochs = 50, batch_size = 32)"
      ],
      "execution_count": 9,
      "outputs": [
        {
          "output_type": "stream",
          "text": [
            "Epoch 1/50\n",
            "1875/1875 [==============================] - 5s 3ms/step - loss: 0.6677 - accuracy: 0.8281 - val_loss: 0.2294 - val_accuracy: 0.9401\n",
            "Epoch 2/50\n",
            "1875/1875 [==============================] - 5s 3ms/step - loss: 0.1897 - accuracy: 0.9490 - val_loss: 0.1557 - val_accuracy: 0.9594\n",
            "Epoch 3/50\n",
            "1875/1875 [==============================] - 5s 3ms/step - loss: 0.1291 - accuracy: 0.9636 - val_loss: 0.1334 - val_accuracy: 0.9648\n",
            "Epoch 4/50\n",
            "1875/1875 [==============================] - 5s 3ms/step - loss: 0.0995 - accuracy: 0.9715 - val_loss: 0.1382 - val_accuracy: 0.9623\n",
            "Epoch 5/50\n",
            "1875/1875 [==============================] - 5s 3ms/step - loss: 0.0848 - accuracy: 0.9751 - val_loss: 0.1221 - val_accuracy: 0.9663\n",
            "Epoch 6/50\n",
            "1875/1875 [==============================] - 5s 3ms/step - loss: 0.0734 - accuracy: 0.9784 - val_loss: 0.1435 - val_accuracy: 0.9624\n",
            "Epoch 7/50\n",
            "1875/1875 [==============================] - 5s 3ms/step - loss: 0.0657 - accuracy: 0.9806 - val_loss: 0.1193 - val_accuracy: 0.9693\n",
            "Epoch 8/50\n",
            "1875/1875 [==============================] - 5s 3ms/step - loss: 0.0578 - accuracy: 0.9820 - val_loss: 0.1220 - val_accuracy: 0.9671\n",
            "Epoch 9/50\n",
            "1875/1875 [==============================] - 5s 3ms/step - loss: 0.0514 - accuracy: 0.9837 - val_loss: 0.1392 - val_accuracy: 0.9638\n",
            "Epoch 10/50\n",
            "1875/1875 [==============================] - 5s 3ms/step - loss: 0.0465 - accuracy: 0.9855 - val_loss: 0.1285 - val_accuracy: 0.9663\n",
            "Epoch 11/50\n",
            "1875/1875 [==============================] - 5s 3ms/step - loss: 0.0451 - accuracy: 0.9857 - val_loss: 0.1227 - val_accuracy: 0.9675\n",
            "Epoch 12/50\n",
            "1875/1875 [==============================] - 5s 3ms/step - loss: 0.0409 - accuracy: 0.9875 - val_loss: 0.1295 - val_accuracy: 0.9669\n",
            "Epoch 13/50\n",
            "1875/1875 [==============================] - 5s 3ms/step - loss: 0.0383 - accuracy: 0.9880 - val_loss: 0.1254 - val_accuracy: 0.9683\n",
            "Epoch 14/50\n",
            "1875/1875 [==============================] - 5s 3ms/step - loss: 0.0365 - accuracy: 0.9887 - val_loss: 0.1399 - val_accuracy: 0.9674\n",
            "Epoch 15/50\n",
            "1875/1875 [==============================] - 5s 3ms/step - loss: 0.0336 - accuracy: 0.9890 - val_loss: 0.1429 - val_accuracy: 0.9657\n",
            "Epoch 16/50\n",
            "1875/1875 [==============================] - 5s 3ms/step - loss: 0.0338 - accuracy: 0.9889 - val_loss: 0.1334 - val_accuracy: 0.9678\n",
            "Epoch 17/50\n",
            "1875/1875 [==============================] - 5s 3ms/step - loss: 0.0305 - accuracy: 0.9902 - val_loss: 0.1330 - val_accuracy: 0.9673\n",
            "Epoch 18/50\n",
            "1875/1875 [==============================] - 5s 3ms/step - loss: 0.0323 - accuracy: 0.9898 - val_loss: 0.1310 - val_accuracy: 0.9689\n",
            "Epoch 19/50\n",
            "1875/1875 [==============================] - 5s 3ms/step - loss: 0.0297 - accuracy: 0.9906 - val_loss: 0.1524 - val_accuracy: 0.9642\n",
            "Epoch 20/50\n",
            "1875/1875 [==============================] - 5s 3ms/step - loss: 0.0263 - accuracy: 0.9918 - val_loss: 0.1477 - val_accuracy: 0.9668\n",
            "Epoch 21/50\n",
            "1875/1875 [==============================] - 5s 3ms/step - loss: 0.0271 - accuracy: 0.9911 - val_loss: 0.1428 - val_accuracy: 0.9661\n",
            "Epoch 22/50\n",
            "1875/1875 [==============================] - 5s 3ms/step - loss: 0.0264 - accuracy: 0.9909 - val_loss: 0.1467 - val_accuracy: 0.9657\n",
            "Epoch 23/50\n",
            "1875/1875 [==============================] - 5s 3ms/step - loss: 0.0249 - accuracy: 0.9919 - val_loss: 0.1469 - val_accuracy: 0.9679\n",
            "Epoch 24/50\n",
            "1875/1875 [==============================] - 5s 3ms/step - loss: 0.0246 - accuracy: 0.9917 - val_loss: 0.1382 - val_accuracy: 0.9678\n",
            "Epoch 25/50\n",
            "1875/1875 [==============================] - 5s 3ms/step - loss: 0.0228 - accuracy: 0.9924 - val_loss: 0.1483 - val_accuracy: 0.9669\n",
            "Epoch 26/50\n",
            "1875/1875 [==============================] - 5s 3ms/step - loss: 0.0233 - accuracy: 0.9927 - val_loss: 0.1557 - val_accuracy: 0.9656\n",
            "Epoch 27/50\n",
            "1875/1875 [==============================] - 5s 3ms/step - loss: 0.0223 - accuracy: 0.9924 - val_loss: 0.1446 - val_accuracy: 0.9675\n",
            "Epoch 28/50\n",
            "1875/1875 [==============================] - 5s 3ms/step - loss: 0.0223 - accuracy: 0.9928 - val_loss: 0.1537 - val_accuracy: 0.9677\n",
            "Epoch 29/50\n",
            "1875/1875 [==============================] - 5s 3ms/step - loss: 0.0234 - accuracy: 0.9927 - val_loss: 0.1558 - val_accuracy: 0.9661\n",
            "Epoch 30/50\n",
            "1875/1875 [==============================] - 5s 3ms/step - loss: 0.0209 - accuracy: 0.9932 - val_loss: 0.1559 - val_accuracy: 0.9669\n",
            "Epoch 31/50\n",
            "1875/1875 [==============================] - 5s 3ms/step - loss: 0.0204 - accuracy: 0.9935 - val_loss: 0.1486 - val_accuracy: 0.9668\n",
            "Epoch 32/50\n",
            "1875/1875 [==============================] - 5s 3ms/step - loss: 0.0178 - accuracy: 0.9937 - val_loss: 0.1604 - val_accuracy: 0.9664\n",
            "Epoch 33/50\n",
            "1875/1875 [==============================] - 5s 3ms/step - loss: 0.0194 - accuracy: 0.9933 - val_loss: 0.1593 - val_accuracy: 0.9646\n",
            "Epoch 34/50\n",
            "1875/1875 [==============================] - 5s 3ms/step - loss: 0.0180 - accuracy: 0.9941 - val_loss: 0.1527 - val_accuracy: 0.9682\n",
            "Epoch 35/50\n",
            "1875/1875 [==============================] - 5s 3ms/step - loss: 0.0184 - accuracy: 0.9937 - val_loss: 0.1562 - val_accuracy: 0.9688\n",
            "Epoch 36/50\n",
            "1875/1875 [==============================] - 5s 3ms/step - loss: 0.0193 - accuracy: 0.9935 - val_loss: 0.1677 - val_accuracy: 0.9650\n",
            "Epoch 37/50\n",
            "1875/1875 [==============================] - 5s 3ms/step - loss: 0.0193 - accuracy: 0.9934 - val_loss: 0.1534 - val_accuracy: 0.9685\n",
            "Epoch 38/50\n",
            "1875/1875 [==============================] - 5s 3ms/step - loss: 0.0180 - accuracy: 0.9943 - val_loss: 0.1594 - val_accuracy: 0.9671\n",
            "Epoch 39/50\n",
            "1875/1875 [==============================] - 5s 3ms/step - loss: 0.0175 - accuracy: 0.9941 - val_loss: 0.1659 - val_accuracy: 0.9637\n",
            "Epoch 40/50\n",
            "1875/1875 [==============================] - 5s 3ms/step - loss: 0.0169 - accuracy: 0.9944 - val_loss: 0.1653 - val_accuracy: 0.9647\n",
            "Epoch 41/50\n",
            "1875/1875 [==============================] - 5s 3ms/step - loss: 0.0158 - accuracy: 0.9946 - val_loss: 0.1550 - val_accuracy: 0.9669\n",
            "Epoch 42/50\n",
            "1875/1875 [==============================] - 5s 3ms/step - loss: 0.0157 - accuracy: 0.9946 - val_loss: 0.1861 - val_accuracy: 0.9647\n",
            "Epoch 43/50\n",
            "1875/1875 [==============================] - 5s 3ms/step - loss: 0.0161 - accuracy: 0.9949 - val_loss: 0.1824 - val_accuracy: 0.9645\n",
            "Epoch 44/50\n",
            "1875/1875 [==============================] - 5s 3ms/step - loss: 0.0171 - accuracy: 0.9947 - val_loss: 0.1559 - val_accuracy: 0.9684\n",
            "Epoch 45/50\n",
            "1875/1875 [==============================] - 5s 3ms/step - loss: 0.0169 - accuracy: 0.9944 - val_loss: 0.1767 - val_accuracy: 0.9633\n",
            "Epoch 46/50\n",
            "1875/1875 [==============================] - 5s 3ms/step - loss: 0.0155 - accuracy: 0.9949 - val_loss: 0.1595 - val_accuracy: 0.9670\n",
            "Epoch 47/50\n",
            "1875/1875 [==============================] - 5s 3ms/step - loss: 0.0150 - accuracy: 0.9949 - val_loss: 0.1612 - val_accuracy: 0.9676\n",
            "Epoch 48/50\n",
            "1875/1875 [==============================] - 5s 3ms/step - loss: 0.0149 - accuracy: 0.9952 - val_loss: 0.1598 - val_accuracy: 0.9666\n",
            "Epoch 49/50\n",
            "1875/1875 [==============================] - 5s 3ms/step - loss: 0.0152 - accuracy: 0.9949 - val_loss: 0.1716 - val_accuracy: 0.9668\n",
            "Epoch 50/50\n",
            "1875/1875 [==============================] - 5s 3ms/step - loss: 0.0141 - accuracy: 0.9955 - val_loss: 0.1626 - val_accuracy: 0.9673\n"
          ],
          "name": "stdout"
        }
      ]
    },
    {
      "cell_type": "markdown",
      "metadata": {
        "id": "jDo8eiA4ap2L",
        "colab_type": "text"
      },
      "source": [
        "* tf.keras.backend.clear_session() removes the default graph"
      ]
    },
    {
      "cell_type": "markdown",
      "metadata": {
        "id": "S7zz2gMuaz1p",
        "colab_type": "text"
      },
      "source": [
        "* We can use relu as our activation function(which is mostly used one)\n",
        "* Even we can adjust the lr and decay in the optimizer can obsere the change in the results"
      ]
    },
    {
      "cell_type": "markdown",
      "metadata": {
        "id": "yjzH8MMQcRQi",
        "colab_type": "text"
      },
      "source": [
        "### 7. Model with relu as an activation function"
      ]
    },
    {
      "cell_type": "code",
      "metadata": {
        "id": "RVIa87JOcKJt",
        "colab_type": "code",
        "colab": {
          "base_uri": "https://localhost:8080/",
          "height": 1000
        },
        "outputId": "ddbd9221-b402-48f9-b4cc-348d80219580"
      },
      "source": [
        "model1 = tf.keras.models.Sequential()\n",
        "\n",
        "#reshaping 28*28 into 784\n",
        "model1.add(tf.keras.layers.Reshape((784,), input_shape = (28, 28,)))\n",
        "\n",
        "#normalising the data\n",
        "model1.add(tf.keras.layers.BatchNormalization())\n",
        "\n",
        "#1st hidden layer\n",
        "model1.add(tf.keras.layers.Dense(200, activation='relu'))\n",
        "\n",
        "#2st hidden layer\n",
        "model1.add(tf.keras.layers.Dense(100, activation='relu'))\n",
        "\n",
        "#3rd hidden layer\n",
        "model1.add(tf.keras.layers.Dense(60, activation='relu'))\n",
        "\n",
        "#4th hidden layer\n",
        "model1.add(tf.keras.layers.Dense(30, activation='relu'))\n",
        "\n",
        "#Output layer\n",
        "model1.add(tf.keras.layers.Dense(10, activation='softmax'))\n",
        "\n",
        "\n",
        "model1.compile(optimizer = 'adam', loss = 'categorical_crossentropy', metrics = ['accuracy'])\n",
        "\n",
        "model1.summary()\n",
        "\n",
        "history = model1.fit(x_train, y_train,\n",
        "                    validation_data = (x_test, y_test),\n",
        "                    epochs = 50, batch_size = 32)\n"
      ],
      "execution_count": 10,
      "outputs": [
        {
          "output_type": "stream",
          "text": [
            "Model: \"sequential_1\"\n",
            "_________________________________________________________________\n",
            "Layer (type)                 Output Shape              Param #   \n",
            "=================================================================\n",
            "reshape_1 (Reshape)          (None, 784)               0         \n",
            "_________________________________________________________________\n",
            "batch_normalization_1 (Batch (None, 784)               3136      \n",
            "_________________________________________________________________\n",
            "dense_5 (Dense)              (None, 200)               157000    \n",
            "_________________________________________________________________\n",
            "dense_6 (Dense)              (None, 100)               20100     \n",
            "_________________________________________________________________\n",
            "dense_7 (Dense)              (None, 60)                6060      \n",
            "_________________________________________________________________\n",
            "dense_8 (Dense)              (None, 30)                1830      \n",
            "_________________________________________________________________\n",
            "dense_9 (Dense)              (None, 10)                310       \n",
            "=================================================================\n",
            "Total params: 188,436\n",
            "Trainable params: 186,868\n",
            "Non-trainable params: 1,568\n",
            "_________________________________________________________________\n",
            "Epoch 1/50\n",
            "1875/1875 [==============================] - 5s 3ms/step - loss: 0.2476 - accuracy: 0.9241 - val_loss: 0.1985 - val_accuracy: 0.9555\n",
            "Epoch 2/50\n",
            "1875/1875 [==============================] - 5s 3ms/step - loss: 0.1209 - accuracy: 0.9620 - val_loss: 0.2098 - val_accuracy: 0.9665\n",
            "Epoch 3/50\n",
            "1875/1875 [==============================] - 5s 3ms/step - loss: 0.0897 - accuracy: 0.9725 - val_loss: 0.2965 - val_accuracy: 0.9674\n",
            "Epoch 4/50\n",
            "1875/1875 [==============================] - 5s 3ms/step - loss: 0.0725 - accuracy: 0.9772 - val_loss: 0.2055 - val_accuracy: 0.9706\n",
            "Epoch 5/50\n",
            "1875/1875 [==============================] - 5s 3ms/step - loss: 0.0626 - accuracy: 0.9807 - val_loss: 0.2415 - val_accuracy: 0.9697\n",
            "Epoch 6/50\n",
            "1875/1875 [==============================] - 5s 3ms/step - loss: 0.0539 - accuracy: 0.9833 - val_loss: 0.2317 - val_accuracy: 0.9650\n",
            "Epoch 7/50\n",
            "1875/1875 [==============================] - 5s 3ms/step - loss: 0.0483 - accuracy: 0.9849 - val_loss: 0.2492 - val_accuracy: 0.9720\n",
            "Epoch 8/50\n",
            "1875/1875 [==============================] - 5s 3ms/step - loss: 0.0431 - accuracy: 0.9866 - val_loss: 0.2492 - val_accuracy: 0.9695\n",
            "Epoch 9/50\n",
            "1875/1875 [==============================] - 5s 3ms/step - loss: 0.0398 - accuracy: 0.9876 - val_loss: 0.3946 - val_accuracy: 0.9711\n",
            "Epoch 10/50\n",
            "1875/1875 [==============================] - 5s 3ms/step - loss: 0.0377 - accuracy: 0.9885 - val_loss: 0.2413 - val_accuracy: 0.9720\n",
            "Epoch 11/50\n",
            "1875/1875 [==============================] - 5s 3ms/step - loss: 0.0335 - accuracy: 0.9896 - val_loss: 0.2767 - val_accuracy: 0.9724\n",
            "Epoch 12/50\n",
            "1875/1875 [==============================] - 5s 3ms/step - loss: 0.0312 - accuracy: 0.9905 - val_loss: 0.2642 - val_accuracy: 0.9736\n",
            "Epoch 13/50\n",
            "1875/1875 [==============================] - 5s 3ms/step - loss: 0.0288 - accuracy: 0.9911 - val_loss: 0.3268 - val_accuracy: 0.9724\n",
            "Epoch 14/50\n",
            "1875/1875 [==============================] - 5s 3ms/step - loss: 0.0271 - accuracy: 0.9916 - val_loss: 0.3370 - val_accuracy: 0.9696\n",
            "Epoch 15/50\n",
            "1875/1875 [==============================] - 5s 3ms/step - loss: 0.0253 - accuracy: 0.9919 - val_loss: 0.2366 - val_accuracy: 0.9711\n",
            "Epoch 16/50\n",
            "1875/1875 [==============================] - 5s 3ms/step - loss: 0.0246 - accuracy: 0.9927 - val_loss: 0.2422 - val_accuracy: 0.9743\n",
            "Epoch 17/50\n",
            "1875/1875 [==============================] - 5s 3ms/step - loss: 0.0232 - accuracy: 0.9929 - val_loss: 0.3152 - val_accuracy: 0.9715\n",
            "Epoch 18/50\n",
            "1875/1875 [==============================] - 5s 3ms/step - loss: 0.0239 - accuracy: 0.9926 - val_loss: 0.2723 - val_accuracy: 0.9724\n",
            "Epoch 19/50\n",
            "1875/1875 [==============================] - 5s 3ms/step - loss: 0.0230 - accuracy: 0.9929 - val_loss: 0.3208 - val_accuracy: 0.9724\n",
            "Epoch 20/50\n",
            "1875/1875 [==============================] - 5s 3ms/step - loss: 0.0204 - accuracy: 0.9940 - val_loss: 0.2541 - val_accuracy: 0.9723\n",
            "Epoch 21/50\n",
            "1875/1875 [==============================] - 5s 3ms/step - loss: 0.0219 - accuracy: 0.9935 - val_loss: 0.3033 - val_accuracy: 0.9710\n",
            "Epoch 22/50\n",
            "1875/1875 [==============================] - 5s 3ms/step - loss: 0.0181 - accuracy: 0.9947 - val_loss: 0.2259 - val_accuracy: 0.9721\n",
            "Epoch 23/50\n",
            "1875/1875 [==============================] - 5s 3ms/step - loss: 0.0208 - accuracy: 0.9939 - val_loss: 0.2673 - val_accuracy: 0.9723\n",
            "Epoch 24/50\n",
            "1875/1875 [==============================] - 5s 3ms/step - loss: 0.0186 - accuracy: 0.9944 - val_loss: 0.2521 - val_accuracy: 0.9724\n",
            "Epoch 25/50\n",
            "1875/1875 [==============================] - 6s 3ms/step - loss: 0.0179 - accuracy: 0.9943 - val_loss: 0.3151 - val_accuracy: 0.9689\n",
            "Epoch 26/50\n",
            "1875/1875 [==============================] - 5s 3ms/step - loss: 0.0187 - accuracy: 0.9947 - val_loss: 0.2304 - val_accuracy: 0.9721\n",
            "Epoch 27/50\n",
            "1875/1875 [==============================] - 5s 3ms/step - loss: 0.0143 - accuracy: 0.9956 - val_loss: 0.3976 - val_accuracy: 0.9710\n",
            "Epoch 28/50\n",
            "1875/1875 [==============================] - 5s 3ms/step - loss: 0.0175 - accuracy: 0.9947 - val_loss: 0.3431 - val_accuracy: 0.9742\n",
            "Epoch 29/50\n",
            "1875/1875 [==============================] - 5s 3ms/step - loss: 0.0159 - accuracy: 0.9952 - val_loss: 0.2610 - val_accuracy: 0.9721\n",
            "Epoch 30/50\n",
            "1875/1875 [==============================] - 5s 3ms/step - loss: 0.0162 - accuracy: 0.9952 - val_loss: 0.2484 - val_accuracy: 0.9752\n",
            "Epoch 31/50\n",
            "1875/1875 [==============================] - 5s 3ms/step - loss: 0.0141 - accuracy: 0.9956 - val_loss: 0.3134 - val_accuracy: 0.9710\n",
            "Epoch 32/50\n",
            "1875/1875 [==============================] - 5s 3ms/step - loss: 0.0151 - accuracy: 0.9956 - val_loss: 0.2676 - val_accuracy: 0.9720\n",
            "Epoch 33/50\n",
            "1875/1875 [==============================] - 5s 3ms/step - loss: 0.0153 - accuracy: 0.9959 - val_loss: 0.2302 - val_accuracy: 0.9724\n",
            "Epoch 34/50\n",
            "1875/1875 [==============================] - 5s 3ms/step - loss: 0.0154 - accuracy: 0.9957 - val_loss: 0.3221 - val_accuracy: 0.9732\n",
            "Epoch 35/50\n",
            "1875/1875 [==============================] - 5s 3ms/step - loss: 0.0149 - accuracy: 0.9962 - val_loss: 0.3400 - val_accuracy: 0.9722\n",
            "Epoch 36/50\n",
            "1875/1875 [==============================] - 5s 3ms/step - loss: 0.0133 - accuracy: 0.9963 - val_loss: 0.3593 - val_accuracy: 0.9707\n",
            "Epoch 37/50\n",
            "1875/1875 [==============================] - 5s 3ms/step - loss: 0.0152 - accuracy: 0.9955 - val_loss: 0.3826 - val_accuracy: 0.9695\n",
            "Epoch 38/50\n",
            "1875/1875 [==============================] - 5s 3ms/step - loss: 0.0127 - accuracy: 0.9966 - val_loss: 0.2929 - val_accuracy: 0.9712\n",
            "Epoch 39/50\n",
            "1875/1875 [==============================] - 5s 3ms/step - loss: 0.0163 - accuracy: 0.9954 - val_loss: 0.4249 - val_accuracy: 0.9689\n",
            "Epoch 40/50\n",
            "1875/1875 [==============================] - 5s 3ms/step - loss: 0.0122 - accuracy: 0.9967 - val_loss: 0.3351 - val_accuracy: 0.9688\n",
            "Epoch 41/50\n",
            "1875/1875 [==============================] - 5s 3ms/step - loss: 0.0156 - accuracy: 0.9958 - val_loss: 0.3303 - val_accuracy: 0.9666\n",
            "Epoch 42/50\n",
            "1875/1875 [==============================] - 5s 3ms/step - loss: 0.0151 - accuracy: 0.9959 - val_loss: 0.2761 - val_accuracy: 0.9732\n",
            "Epoch 43/50\n",
            "1875/1875 [==============================] - 5s 3ms/step - loss: 0.0145 - accuracy: 0.9962 - val_loss: 0.2945 - val_accuracy: 0.9694\n",
            "Epoch 44/50\n",
            "1875/1875 [==============================] - 5s 3ms/step - loss: 0.0106 - accuracy: 0.9969 - val_loss: 0.2820 - val_accuracy: 0.9721\n",
            "Epoch 45/50\n",
            "1875/1875 [==============================] - 5s 3ms/step - loss: 0.0128 - accuracy: 0.9966 - val_loss: 0.3719 - val_accuracy: 0.9716\n",
            "Epoch 46/50\n",
            "1875/1875 [==============================] - 5s 3ms/step - loss: 0.0113 - accuracy: 0.9969 - val_loss: 0.3641 - val_accuracy: 0.9696\n",
            "Epoch 47/50\n",
            "1875/1875 [==============================] - 5s 3ms/step - loss: 0.0139 - accuracy: 0.9966 - val_loss: 0.3108 - val_accuracy: 0.9706\n",
            "Epoch 48/50\n",
            "1875/1875 [==============================] - 5s 3ms/step - loss: 0.0112 - accuracy: 0.9970 - val_loss: 0.2763 - val_accuracy: 0.9739\n",
            "Epoch 49/50\n",
            "1875/1875 [==============================] - 5s 3ms/step - loss: 0.0101 - accuracy: 0.9970 - val_loss: 0.4258 - val_accuracy: 0.9723\n",
            "Epoch 50/50\n",
            "1875/1875 [==============================] - 5s 3ms/step - loss: 0.0141 - accuracy: 0.9967 - val_loss: 0.2882 - val_accuracy: 0.9708\n"
          ],
          "name": "stdout"
        }
      ]
    },
    {
      "cell_type": "markdown",
      "metadata": {
        "id": "JIQrbCzhc1hE",
        "colab_type": "text"
      },
      "source": [
        "### 8. Changing lr and decay in adam optimizer with relu as activation function"
      ]
    },
    {
      "cell_type": "code",
      "metadata": {
        "id": "GbgHGqNtc05l",
        "colab_type": "code",
        "colab": {
          "base_uri": "https://localhost:8080/",
          "height": 1000
        },
        "outputId": "d46dee8a-9779-482a-b141-509fad4199bd"
      },
      "source": [
        "adam = tf.keras.optimizers.Adam(lr = 0.03, decay = 0.02)\n",
        "model1.compile(optimizer = 'adam', loss = 'categorical_crossentropy', metrics = ['accuracy'])\n",
        "\n",
        "model1.summary()\n",
        "\n",
        "history = model1.fit(x_train, y_train,\n",
        "                    validation_data = (x_test, y_test),\n",
        "                    epochs = 50, batch_size = 32)\n"
      ],
      "execution_count": 11,
      "outputs": [
        {
          "output_type": "stream",
          "text": [
            "Model: \"sequential_1\"\n",
            "_________________________________________________________________\n",
            "Layer (type)                 Output Shape              Param #   \n",
            "=================================================================\n",
            "reshape_1 (Reshape)          (None, 784)               0         \n",
            "_________________________________________________________________\n",
            "batch_normalization_1 (Batch (None, 784)               3136      \n",
            "_________________________________________________________________\n",
            "dense_5 (Dense)              (None, 200)               157000    \n",
            "_________________________________________________________________\n",
            "dense_6 (Dense)              (None, 100)               20100     \n",
            "_________________________________________________________________\n",
            "dense_7 (Dense)              (None, 60)                6060      \n",
            "_________________________________________________________________\n",
            "dense_8 (Dense)              (None, 30)                1830      \n",
            "_________________________________________________________________\n",
            "dense_9 (Dense)              (None, 10)                310       \n",
            "=================================================================\n",
            "Total params: 188,436\n",
            "Trainable params: 186,868\n",
            "Non-trainable params: 1,568\n",
            "_________________________________________________________________\n",
            "Epoch 1/50\n",
            "1875/1875 [==============================] - 5s 3ms/step - loss: 0.0154 - accuracy: 0.9961 - val_loss: 0.4129 - val_accuracy: 0.9698\n",
            "Epoch 2/50\n",
            "1875/1875 [==============================] - 5s 3ms/step - loss: 0.0128 - accuracy: 0.9967 - val_loss: 0.4271 - val_accuracy: 0.9705\n",
            "Epoch 3/50\n",
            "1875/1875 [==============================] - 5s 3ms/step - loss: 0.0127 - accuracy: 0.9968 - val_loss: 0.5082 - val_accuracy: 0.9730\n",
            "Epoch 4/50\n",
            "1875/1875 [==============================] - 5s 3ms/step - loss: 0.0117 - accuracy: 0.9968 - val_loss: 0.3243 - val_accuracy: 0.9719\n",
            "Epoch 5/50\n",
            "1875/1875 [==============================] - 5s 3ms/step - loss: 0.0105 - accuracy: 0.9971 - val_loss: 0.4438 - val_accuracy: 0.9721\n",
            "Epoch 6/50\n",
            "1875/1875 [==============================] - 5s 3ms/step - loss: 0.0131 - accuracy: 0.9967 - val_loss: 0.4602 - val_accuracy: 0.9719\n",
            "Epoch 7/50\n",
            "1875/1875 [==============================] - 5s 3ms/step - loss: 0.0113 - accuracy: 0.9969 - val_loss: 0.3042 - val_accuracy: 0.9732\n",
            "Epoch 8/50\n",
            "1875/1875 [==============================] - 5s 3ms/step - loss: 0.0148 - accuracy: 0.9966 - val_loss: 0.4282 - val_accuracy: 0.9720\n",
            "Epoch 9/50\n",
            "1875/1875 [==============================] - 5s 3ms/step - loss: 0.0097 - accuracy: 0.9971 - val_loss: 0.4142 - val_accuracy: 0.9740\n",
            "Epoch 10/50\n",
            "1875/1875 [==============================] - 5s 3ms/step - loss: 0.0126 - accuracy: 0.9971 - val_loss: 0.2723 - val_accuracy: 0.9725\n",
            "Epoch 11/50\n",
            "1875/1875 [==============================] - 5s 3ms/step - loss: 0.0125 - accuracy: 0.9968 - val_loss: 0.3427 - val_accuracy: 0.9710\n",
            "Epoch 12/50\n",
            "1875/1875 [==============================] - 5s 3ms/step - loss: 0.0097 - accuracy: 0.9976 - val_loss: 0.3163 - val_accuracy: 0.9718\n",
            "Epoch 13/50\n",
            "1875/1875 [==============================] - 5s 3ms/step - loss: 0.0126 - accuracy: 0.9966 - val_loss: 0.2792 - val_accuracy: 0.9740\n",
            "Epoch 14/50\n",
            "1875/1875 [==============================] - 5s 3ms/step - loss: 0.0088 - accuracy: 0.9977 - val_loss: 0.4349 - val_accuracy: 0.9722\n",
            "Epoch 15/50\n",
            "1875/1875 [==============================] - 5s 3ms/step - loss: 0.0154 - accuracy: 0.9963 - val_loss: 0.4028 - val_accuracy: 0.9707\n",
            "Epoch 16/50\n",
            "1875/1875 [==============================] - 5s 3ms/step - loss: 0.0097 - accuracy: 0.9975 - val_loss: 0.3885 - val_accuracy: 0.9721\n",
            "Epoch 17/50\n",
            "1875/1875 [==============================] - 5s 3ms/step - loss: 0.0115 - accuracy: 0.9972 - val_loss: 0.2804 - val_accuracy: 0.9747\n",
            "Epoch 18/50\n",
            "1875/1875 [==============================] - 5s 3ms/step - loss: 0.0104 - accuracy: 0.9972 - val_loss: 0.3697 - val_accuracy: 0.9715\n",
            "Epoch 19/50\n",
            "1875/1875 [==============================] - 5s 3ms/step - loss: 0.0116 - accuracy: 0.9974 - val_loss: 0.4322 - val_accuracy: 0.9737\n",
            "Epoch 20/50\n",
            "1875/1875 [==============================] - 5s 3ms/step - loss: 0.0107 - accuracy: 0.9974 - val_loss: 0.5005 - val_accuracy: 0.9703\n",
            "Epoch 21/50\n",
            "1875/1875 [==============================] - 5s 3ms/step - loss: 0.0107 - accuracy: 0.9973 - val_loss: 0.3346 - val_accuracy: 0.9733\n",
            "Epoch 22/50\n",
            "1875/1875 [==============================] - 5s 3ms/step - loss: 0.0114 - accuracy: 0.9974 - val_loss: 0.3541 - val_accuracy: 0.9733\n",
            "Epoch 23/50\n",
            "1875/1875 [==============================] - 5s 3ms/step - loss: 0.0086 - accuracy: 0.9977 - val_loss: 0.3641 - val_accuracy: 0.9710\n",
            "Epoch 24/50\n",
            "1875/1875 [==============================] - 5s 3ms/step - loss: 0.0131 - accuracy: 0.9970 - val_loss: 0.4035 - val_accuracy: 0.9724\n",
            "Epoch 25/50\n",
            "1875/1875 [==============================] - 5s 3ms/step - loss: 0.0096 - accuracy: 0.9977 - val_loss: 0.4962 - val_accuracy: 0.9729\n",
            "Epoch 26/50\n",
            "1875/1875 [==============================] - 5s 3ms/step - loss: 0.0094 - accuracy: 0.9976 - val_loss: 0.3132 - val_accuracy: 0.9732\n",
            "Epoch 27/50\n",
            "1875/1875 [==============================] - 5s 3ms/step - loss: 0.0088 - accuracy: 0.9977 - val_loss: 0.4306 - val_accuracy: 0.9723\n",
            "Epoch 28/50\n",
            "1875/1875 [==============================] - 5s 3ms/step - loss: 0.0126 - accuracy: 0.9970 - val_loss: 0.3045 - val_accuracy: 0.9738\n",
            "Epoch 29/50\n",
            "1875/1875 [==============================] - 5s 3ms/step - loss: 0.0113 - accuracy: 0.9976 - val_loss: 0.3110 - val_accuracy: 0.9730\n",
            "Epoch 30/50\n",
            "1875/1875 [==============================] - 5s 3ms/step - loss: 0.0097 - accuracy: 0.9974 - val_loss: 0.4282 - val_accuracy: 0.9736\n",
            "Epoch 31/50\n",
            "1875/1875 [==============================] - 5s 3ms/step - loss: 0.0083 - accuracy: 0.9981 - val_loss: 0.3770 - val_accuracy: 0.9704\n",
            "Epoch 32/50\n",
            "1875/1875 [==============================] - 5s 3ms/step - loss: 0.0116 - accuracy: 0.9972 - val_loss: 0.3889 - val_accuracy: 0.9722\n",
            "Epoch 33/50\n",
            "1875/1875 [==============================] - 5s 3ms/step - loss: 0.0096 - accuracy: 0.9977 - val_loss: 0.4168 - val_accuracy: 0.9710\n",
            "Epoch 34/50\n",
            "1875/1875 [==============================] - 6s 3ms/step - loss: 0.0088 - accuracy: 0.9979 - val_loss: 0.3205 - val_accuracy: 0.9724\n",
            "Epoch 35/50\n",
            "1875/1875 [==============================] - 6s 3ms/step - loss: 0.0079 - accuracy: 0.9981 - val_loss: 0.4018 - val_accuracy: 0.9727\n",
            "Epoch 36/50\n",
            "1875/1875 [==============================] - 5s 3ms/step - loss: 0.0088 - accuracy: 0.9980 - val_loss: 0.3947 - val_accuracy: 0.9722\n",
            "Epoch 37/50\n",
            "1875/1875 [==============================] - 5s 3ms/step - loss: 0.0093 - accuracy: 0.9978 - val_loss: 0.4035 - val_accuracy: 0.9726\n",
            "Epoch 38/50\n",
            "1875/1875 [==============================] - 5s 3ms/step - loss: 0.0103 - accuracy: 0.9977 - val_loss: 0.3394 - val_accuracy: 0.9720\n",
            "Epoch 39/50\n",
            "1875/1875 [==============================] - 5s 3ms/step - loss: 0.0125 - accuracy: 0.9974 - val_loss: 0.3473 - val_accuracy: 0.9719\n",
            "Epoch 40/50\n",
            "1875/1875 [==============================] - 5s 3ms/step - loss: 0.0095 - accuracy: 0.9979 - val_loss: 0.3230 - val_accuracy: 0.9747\n",
            "Epoch 41/50\n",
            "1875/1875 [==============================] - 5s 3ms/step - loss: 0.0097 - accuracy: 0.9979 - val_loss: 0.3786 - val_accuracy: 0.9731\n",
            "Epoch 42/50\n",
            "1875/1875 [==============================] - 5s 3ms/step - loss: 0.0104 - accuracy: 0.9978 - val_loss: 0.3594 - val_accuracy: 0.9742\n",
            "Epoch 43/50\n",
            "1875/1875 [==============================] - 5s 3ms/step - loss: 0.0089 - accuracy: 0.9977 - val_loss: 0.3303 - val_accuracy: 0.9719\n",
            "Epoch 44/50\n",
            "1875/1875 [==============================] - 5s 3ms/step - loss: 0.0119 - accuracy: 0.9977 - val_loss: 0.3687 - val_accuracy: 0.9733\n",
            "Epoch 45/50\n",
            "1875/1875 [==============================] - 5s 3ms/step - loss: 0.0082 - accuracy: 0.9982 - val_loss: 0.3879 - val_accuracy: 0.9714\n",
            "Epoch 46/50\n",
            "1875/1875 [==============================] - 5s 3ms/step - loss: 0.0104 - accuracy: 0.9976 - val_loss: 0.4024 - val_accuracy: 0.9732\n",
            "Epoch 47/50\n",
            "1875/1875 [==============================] - 5s 3ms/step - loss: 0.0106 - accuracy: 0.9973 - val_loss: 0.4579 - val_accuracy: 0.9738\n",
            "Epoch 48/50\n",
            "1875/1875 [==============================] - 5s 3ms/step - loss: 0.0097 - accuracy: 0.9979 - val_loss: 0.2996 - val_accuracy: 0.9740\n",
            "Epoch 49/50\n",
            "1875/1875 [==============================] - 5s 3ms/step - loss: 0.0098 - accuracy: 0.9978 - val_loss: 0.4596 - val_accuracy: 0.9755\n",
            "Epoch 50/50\n",
            "1875/1875 [==============================] - 5s 3ms/step - loss: 0.0077 - accuracy: 0.9983 - val_loss: 0.4883 - val_accuracy: 0.9688\n"
          ],
          "name": "stdout"
        }
      ]
    },
    {
      "cell_type": "markdown",
      "metadata": {
        "id": "PPncJRZ-bkq5",
        "colab_type": "text"
      },
      "source": [
        "> Dropout, it is a regularization parameter which is used to avoid overfitting `https://drive.google.com/file/d/12QBlioV5wgSlBa8KXGBtz9mv3nVjXo6C/view?usp=sharing` \n",
        "\n",
        "note: we can apply dropout at anywhere and any no of times we want to\n",
        "\n",
        "### 9. Dropout to avoid overfitting"
      ]
    },
    {
      "cell_type": "code",
      "metadata": {
        "id": "jrN0UmthayiD",
        "colab_type": "code",
        "colab": {
          "base_uri": "https://localhost:8080/",
          "height": 1000
        },
        "outputId": "c9a65045-807d-4b29-8c22-97db85d6bd8f"
      },
      "source": [
        "model2 = tf.keras.models.Sequential()\n",
        "\n",
        "#reshaping 28*28 into 784\n",
        "model2.add(tf.keras.layers.Reshape((784,), input_shape = (28, 28,)))\n",
        "\n",
        "#normalising the data\n",
        "model2.add(tf.keras.layers.BatchNormalization())\n",
        "model.add(tf.keras.layers.Dropout(0.5))\n",
        "\n",
        "#1st hidden layer\n",
        "model2.add(tf.keras.layers.Dense(200, activation='relu'))\n",
        "model2.add(tf.keras.layers.Dropout(0.4))\n",
        "\n",
        "#2st hidden layer\n",
        "model2.add(tf.keras.layers.Dense(100, activation='relu'))\n",
        "model2.add(tf.keras.layers.Dropout(0.3))\n",
        "\n",
        "#3rd hidden layer\n",
        "model2.add(tf.keras.layers.Dense(60, activation='relu'))\n",
        "model2.add(tf.keras.layers.Dropout(0.2))\n",
        "\n",
        "#4th hidden layer\n",
        "model2.add(tf.keras.layers.Dense(30, activation='relu'))\n",
        "model2.add(tf.keras.layers.Dropout(0.1))\n",
        "\n",
        "#Output layer\n",
        "model2.add(tf.keras.layers.Dense(10, activation='softmax'))\n",
        "\n",
        "\n",
        "adam = tf.keras.optimizers.Adam(lr = 0.03, decay = 0.02)\n",
        "model2.compile(optimizer = 'adam', loss = 'categorical_crossentropy', metrics = ['accuracy'])\n",
        "\n",
        "model2.summary()\n",
        "\n",
        "history = model2.fit(x_train, y_train,\n",
        "                    validation_data = (x_test, y_test),\n",
        "                    epochs = 50, batch_size = 32)"
      ],
      "execution_count": 13,
      "outputs": [
        {
          "output_type": "stream",
          "text": [
            "Model: \"sequential_3\"\n",
            "_________________________________________________________________\n",
            "Layer (type)                 Output Shape              Param #   \n",
            "=================================================================\n",
            "reshape_3 (Reshape)          (None, 784)               0         \n",
            "_________________________________________________________________\n",
            "batch_normalization_3 (Batch (None, 784)               3136      \n",
            "_________________________________________________________________\n",
            "dense_15 (Dense)             (None, 200)               157000    \n",
            "_________________________________________________________________\n",
            "dropout_6 (Dropout)          (None, 200)               0         \n",
            "_________________________________________________________________\n",
            "dense_16 (Dense)             (None, 100)               20100     \n",
            "_________________________________________________________________\n",
            "dropout_7 (Dropout)          (None, 100)               0         \n",
            "_________________________________________________________________\n",
            "dense_17 (Dense)             (None, 60)                6060      \n",
            "_________________________________________________________________\n",
            "dropout_8 (Dropout)          (None, 60)                0         \n",
            "_________________________________________________________________\n",
            "dense_18 (Dense)             (None, 30)                1830      \n",
            "_________________________________________________________________\n",
            "dropout_9 (Dropout)          (None, 30)                0         \n",
            "_________________________________________________________________\n",
            "dense_19 (Dense)             (None, 10)                310       \n",
            "=================================================================\n",
            "Total params: 188,436\n",
            "Trainable params: 186,868\n",
            "Non-trainable params: 1,568\n",
            "_________________________________________________________________\n",
            "Epoch 1/50\n",
            "1875/1875 [==============================] - 6s 3ms/step - loss: 0.5388 - accuracy: 0.8398 - val_loss: 0.2538 - val_accuracy: 0.9496\n",
            "Epoch 2/50\n",
            "1875/1875 [==============================] - 5s 3ms/step - loss: 0.2838 - accuracy: 0.9235 - val_loss: 0.1706 - val_accuracy: 0.9618\n",
            "Epoch 3/50\n",
            "1875/1875 [==============================] - 5s 3ms/step - loss: 0.2341 - accuracy: 0.9368 - val_loss: 0.1441 - val_accuracy: 0.9666\n",
            "Epoch 4/50\n",
            "1875/1875 [==============================] - 5s 3ms/step - loss: 0.2060 - accuracy: 0.9446 - val_loss: 0.1546 - val_accuracy: 0.9666\n",
            "Epoch 5/50\n",
            "1875/1875 [==============================] - 5s 3ms/step - loss: 0.1858 - accuracy: 0.9500 - val_loss: 0.1777 - val_accuracy: 0.9680\n",
            "Epoch 6/50\n",
            "1875/1875 [==============================] - 5s 3ms/step - loss: 0.1736 - accuracy: 0.9527 - val_loss: 0.1304 - val_accuracy: 0.9717\n",
            "Epoch 7/50\n",
            "1875/1875 [==============================] - 5s 3ms/step - loss: 0.1610 - accuracy: 0.9554 - val_loss: 0.1287 - val_accuracy: 0.9726\n",
            "Epoch 8/50\n",
            "1875/1875 [==============================] - 5s 3ms/step - loss: 0.1545 - accuracy: 0.9596 - val_loss: 0.1378 - val_accuracy: 0.9702\n",
            "Epoch 9/50\n",
            "1875/1875 [==============================] - 5s 3ms/step - loss: 0.1493 - accuracy: 0.9600 - val_loss: 0.1304 - val_accuracy: 0.9735\n",
            "Epoch 10/50\n",
            "1875/1875 [==============================] - 5s 3ms/step - loss: 0.1399 - accuracy: 0.9621 - val_loss: 0.1461 - val_accuracy: 0.9735\n",
            "Epoch 11/50\n",
            "1875/1875 [==============================] - 6s 3ms/step - loss: 0.1396 - accuracy: 0.9631 - val_loss: 0.1314 - val_accuracy: 0.9719\n",
            "Epoch 12/50\n",
            "1875/1875 [==============================] - 5s 3ms/step - loss: 0.1288 - accuracy: 0.9652 - val_loss: 0.1280 - val_accuracy: 0.9729\n",
            "Epoch 13/50\n",
            "1875/1875 [==============================] - 5s 3ms/step - loss: 0.1264 - accuracy: 0.9658 - val_loss: 0.1387 - val_accuracy: 0.9730\n",
            "Epoch 14/50\n",
            "1875/1875 [==============================] - 5s 3ms/step - loss: 0.1236 - accuracy: 0.9658 - val_loss: 0.1158 - val_accuracy: 0.9738\n",
            "Epoch 15/50\n",
            "1875/1875 [==============================] - 5s 3ms/step - loss: 0.1223 - accuracy: 0.9665 - val_loss: 0.1222 - val_accuracy: 0.9741\n",
            "Epoch 16/50\n",
            "1875/1875 [==============================] - 5s 3ms/step - loss: 0.1212 - accuracy: 0.9667 - val_loss: 0.1200 - val_accuracy: 0.9750\n",
            "Epoch 17/50\n",
            "1875/1875 [==============================] - 5s 3ms/step - loss: 0.1167 - accuracy: 0.9679 - val_loss: 0.1275 - val_accuracy: 0.9746\n",
            "Epoch 18/50\n",
            "1875/1875 [==============================] - 6s 3ms/step - loss: 0.1134 - accuracy: 0.9685 - val_loss: 0.1276 - val_accuracy: 0.9751\n",
            "Epoch 19/50\n",
            "1875/1875 [==============================] - 6s 3ms/step - loss: 0.1106 - accuracy: 0.9699 - val_loss: 0.1321 - val_accuracy: 0.9741\n",
            "Epoch 20/50\n",
            "1875/1875 [==============================] - 6s 3ms/step - loss: 0.1109 - accuracy: 0.9689 - val_loss: 0.1187 - val_accuracy: 0.9744\n",
            "Epoch 21/50\n",
            "1875/1875 [==============================] - 5s 3ms/step - loss: 0.1071 - accuracy: 0.9707 - val_loss: 0.1249 - val_accuracy: 0.9724\n",
            "Epoch 22/50\n",
            "1875/1875 [==============================] - 5s 3ms/step - loss: 0.1056 - accuracy: 0.9711 - val_loss: 0.1397 - val_accuracy: 0.9715\n",
            "Epoch 23/50\n",
            "1875/1875 [==============================] - 5s 3ms/step - loss: 0.1060 - accuracy: 0.9715 - val_loss: 0.1392 - val_accuracy: 0.9743\n",
            "Epoch 24/50\n",
            "1875/1875 [==============================] - 5s 3ms/step - loss: 0.1025 - accuracy: 0.9723 - val_loss: 0.1336 - val_accuracy: 0.9737\n",
            "Epoch 25/50\n",
            "1875/1875 [==============================] - 5s 3ms/step - loss: 0.1009 - accuracy: 0.9720 - val_loss: 0.1445 - val_accuracy: 0.9731\n",
            "Epoch 26/50\n",
            "1875/1875 [==============================] - 6s 3ms/step - loss: 0.1046 - accuracy: 0.9711 - val_loss: 0.1224 - val_accuracy: 0.9754\n",
            "Epoch 27/50\n",
            "1875/1875 [==============================] - 5s 3ms/step - loss: 0.0947 - accuracy: 0.9739 - val_loss: 0.1239 - val_accuracy: 0.9752\n",
            "Epoch 28/50\n",
            "1875/1875 [==============================] - 5s 3ms/step - loss: 0.1018 - accuracy: 0.9728 - val_loss: 0.1168 - val_accuracy: 0.9760\n",
            "Epoch 29/50\n",
            "1875/1875 [==============================] - 5s 3ms/step - loss: 0.0977 - accuracy: 0.9731 - val_loss: 0.1224 - val_accuracy: 0.9760\n",
            "Epoch 30/50\n",
            "1875/1875 [==============================] - 6s 3ms/step - loss: 0.0942 - accuracy: 0.9740 - val_loss: 0.1211 - val_accuracy: 0.9752\n",
            "Epoch 31/50\n",
            "1875/1875 [==============================] - 5s 3ms/step - loss: 0.0937 - accuracy: 0.9749 - val_loss: 0.1173 - val_accuracy: 0.9764\n",
            "Epoch 32/50\n",
            "1875/1875 [==============================] - 6s 3ms/step - loss: 0.0923 - accuracy: 0.9742 - val_loss: 0.1232 - val_accuracy: 0.9741\n",
            "Epoch 33/50\n",
            "1875/1875 [==============================] - 5s 3ms/step - loss: 0.0897 - accuracy: 0.9751 - val_loss: 0.1498 - val_accuracy: 0.9749\n",
            "Epoch 34/50\n",
            "1875/1875 [==============================] - 6s 3ms/step - loss: 0.0914 - accuracy: 0.9743 - val_loss: 0.1195 - val_accuracy: 0.9742\n",
            "Epoch 35/50\n",
            "1875/1875 [==============================] - 6s 3ms/step - loss: 0.0875 - accuracy: 0.9756 - val_loss: 0.1286 - val_accuracy: 0.9731\n",
            "Epoch 36/50\n",
            "1875/1875 [==============================] - 6s 3ms/step - loss: 0.0880 - accuracy: 0.9764 - val_loss: 0.1408 - val_accuracy: 0.9750\n",
            "Epoch 37/50\n",
            "1875/1875 [==============================] - 6s 3ms/step - loss: 0.0870 - accuracy: 0.9763 - val_loss: 0.1170 - val_accuracy: 0.9737\n",
            "Epoch 38/50\n",
            "1875/1875 [==============================] - 6s 3ms/step - loss: 0.0895 - accuracy: 0.9746 - val_loss: 0.2044 - val_accuracy: 0.9738\n",
            "Epoch 39/50\n",
            "1875/1875 [==============================] - 6s 3ms/step - loss: 0.0893 - accuracy: 0.9758 - val_loss: 0.1425 - val_accuracy: 0.9724\n",
            "Epoch 40/50\n",
            "1875/1875 [==============================] - 6s 3ms/step - loss: 0.0846 - accuracy: 0.9765 - val_loss: 0.1221 - val_accuracy: 0.9716\n",
            "Epoch 41/50\n",
            "1875/1875 [==============================] - 6s 3ms/step - loss: 0.0868 - accuracy: 0.9761 - val_loss: 0.1204 - val_accuracy: 0.9739\n",
            "Epoch 42/50\n",
            "1875/1875 [==============================] - 6s 3ms/step - loss: 0.0859 - accuracy: 0.9776 - val_loss: 0.1420 - val_accuracy: 0.9715\n",
            "Epoch 43/50\n",
            "1875/1875 [==============================] - 6s 3ms/step - loss: 0.0901 - accuracy: 0.9754 - val_loss: 0.1202 - val_accuracy: 0.9736\n",
            "Epoch 44/50\n",
            "1875/1875 [==============================] - 6s 3ms/step - loss: 0.0830 - accuracy: 0.9774 - val_loss: 0.1295 - val_accuracy: 0.9715\n",
            "Epoch 45/50\n",
            "1875/1875 [==============================] - 6s 3ms/step - loss: 0.0814 - accuracy: 0.9778 - val_loss: 0.1230 - val_accuracy: 0.9720\n",
            "Epoch 46/50\n",
            "1875/1875 [==============================] - 6s 3ms/step - loss: 0.0839 - accuracy: 0.9765 - val_loss: 0.1231 - val_accuracy: 0.9748\n",
            "Epoch 47/50\n",
            "1875/1875 [==============================] - 6s 3ms/step - loss: 0.0818 - accuracy: 0.9773 - val_loss: 0.1147 - val_accuracy: 0.9750\n",
            "Epoch 48/50\n",
            "1875/1875 [==============================] - 6s 3ms/step - loss: 0.0862 - accuracy: 0.9767 - val_loss: 0.1194 - val_accuracy: 0.9743\n",
            "Epoch 49/50\n",
            "1875/1875 [==============================] - 6s 3ms/step - loss: 0.0835 - accuracy: 0.9770 - val_loss: 0.1848 - val_accuracy: 0.9722\n",
            "Epoch 50/50\n",
            "1875/1875 [==============================] - 6s 3ms/step - loss: 0.0802 - accuracy: 0.9786 - val_loss: 0.1163 - val_accuracy: 0.9742\n"
          ],
          "name": "stdout"
        }
      ]
    },
    {
      "cell_type": "markdown",
      "metadata": {
        "id": "Wy6JZcbMemUW",
        "colab_type": "text"
      },
      "source": [
        "> Batch Normalization, actually was introduce to normalise the data between hidden layers\n",
        "\n",
        "### 10. BatchNormalization on hidden layers"
      ]
    },
    {
      "cell_type": "code",
      "metadata": {
        "id": "e1xvSxqde7vo",
        "colab_type": "code",
        "colab": {
          "base_uri": "https://localhost:8080/",
          "height": 1000
        },
        "outputId": "dae5257f-9abf-43b3-b8f1-8c230b8ab6fd"
      },
      "source": [
        "model3 = tf.keras.models.Sequential()\n",
        "\n",
        "#reshaping 28*28 into 784\n",
        "model3.add(tf.keras.layers.Reshape((784,), input_shape = (28, 28,)))\n",
        "\n",
        "#normalising the data\n",
        "model3.add(tf.keras.layers.BatchNormalization())\n",
        "\n",
        "#1st hidden layer\n",
        "model3.add(tf.keras.layers.Dense(200, activation='relu'))\n",
        "model3.add(tf.keras.layers.BatchNormalization())\n",
        "\n",
        "#2st hidden layer\n",
        "model3.add(tf.keras.layers.Dense(100, activation='relu'))\n",
        "model3.add(tf.keras.layers.BatchNormalization())\n",
        "\n",
        "#3rd hidden layer\n",
        "model3.add(tf.keras.layers.Dense(60, activation='relu'))\n",
        "model3.add(tf.keras.layers.BatchNormalization())\n",
        "\n",
        "#4th hidden layer\n",
        "model3.add(tf.keras.layers.Dense(30, activation='relu'))\n",
        "model3.add(tf.keras.layers.BatchNormalization())\n",
        "\n",
        "#Output layer\n",
        "model3.add(tf.keras.layers.Dense(10, activation='softmax'))\n",
        "\n",
        "\n",
        "adam = tf.keras.optimizers.Adam(lr = 0.03, decay = 0.02)\n",
        "model3.compile(optimizer = 'adam', loss = 'categorical_crossentropy', metrics = ['accuracy'])\n",
        "\n",
        "model3.summary()\n",
        "\n",
        "history = model3.fit(x_train, y_train,\n",
        "                    validation_data = (x_test, y_test),\n",
        "                    epochs = 50, batch_size = 32)"
      ],
      "execution_count": 14,
      "outputs": [
        {
          "output_type": "stream",
          "text": [
            "Model: \"sequential_4\"\n",
            "_________________________________________________________________\n",
            "Layer (type)                 Output Shape              Param #   \n",
            "=================================================================\n",
            "reshape_4 (Reshape)          (None, 784)               0         \n",
            "_________________________________________________________________\n",
            "batch_normalization_4 (Batch (None, 784)               3136      \n",
            "_________________________________________________________________\n",
            "dense_20 (Dense)             (None, 200)               157000    \n",
            "_________________________________________________________________\n",
            "batch_normalization_5 (Batch (None, 200)               800       \n",
            "_________________________________________________________________\n",
            "dense_21 (Dense)             (None, 100)               20100     \n",
            "_________________________________________________________________\n",
            "batch_normalization_6 (Batch (None, 100)               400       \n",
            "_________________________________________________________________\n",
            "dense_22 (Dense)             (None, 60)                6060      \n",
            "_________________________________________________________________\n",
            "batch_normalization_7 (Batch (None, 60)                240       \n",
            "_________________________________________________________________\n",
            "dense_23 (Dense)             (None, 30)                1830      \n",
            "_________________________________________________________________\n",
            "batch_normalization_8 (Batch (None, 30)                120       \n",
            "_________________________________________________________________\n",
            "dense_24 (Dense)             (None, 10)                310       \n",
            "=================================================================\n",
            "Total params: 189,996\n",
            "Trainable params: 187,648\n",
            "Non-trainable params: 2,348\n",
            "_________________________________________________________________\n",
            "Epoch 1/50\n",
            "1875/1875 [==============================] - 7s 4ms/step - loss: 0.3050 - accuracy: 0.9120 - val_loss: 0.2785 - val_accuracy: 0.9580\n",
            "Epoch 2/50\n",
            "1875/1875 [==============================] - 7s 4ms/step - loss: 0.1509 - accuracy: 0.9542 - val_loss: 0.3008 - val_accuracy: 0.9646\n",
            "Epoch 3/50\n",
            "1875/1875 [==============================] - 7s 4ms/step - loss: 0.1135 - accuracy: 0.9650 - val_loss: 0.4482 - val_accuracy: 0.9680\n",
            "Epoch 4/50\n",
            "1875/1875 [==============================] - 7s 4ms/step - loss: 0.0956 - accuracy: 0.9704 - val_loss: 0.3544 - val_accuracy: 0.9710\n",
            "Epoch 5/50\n",
            "1875/1875 [==============================] - 7s 4ms/step - loss: 0.0833 - accuracy: 0.9746 - val_loss: 0.3867 - val_accuracy: 0.9719\n",
            "Epoch 6/50\n",
            "1875/1875 [==============================] - 7s 4ms/step - loss: 0.0695 - accuracy: 0.9782 - val_loss: 0.6045 - val_accuracy: 0.9703\n",
            "Epoch 7/50\n",
            "1875/1875 [==============================] - 7s 4ms/step - loss: 0.0646 - accuracy: 0.9794 - val_loss: 0.3593 - val_accuracy: 0.9704\n",
            "Epoch 8/50\n",
            "1875/1875 [==============================] - 7s 4ms/step - loss: 0.0567 - accuracy: 0.9822 - val_loss: 0.3525 - val_accuracy: 0.9732\n",
            "Epoch 9/50\n",
            "1875/1875 [==============================] - 7s 4ms/step - loss: 0.0503 - accuracy: 0.9841 - val_loss: 0.2414 - val_accuracy: 0.9750\n",
            "Epoch 10/50\n",
            "1875/1875 [==============================] - 7s 4ms/step - loss: 0.0508 - accuracy: 0.9838 - val_loss: 0.6253 - val_accuracy: 0.9739\n",
            "Epoch 11/50\n",
            "1875/1875 [==============================] - 7s 4ms/step - loss: 0.0433 - accuracy: 0.9859 - val_loss: 0.2783 - val_accuracy: 0.9730\n",
            "Epoch 12/50\n",
            "1875/1875 [==============================] - 7s 4ms/step - loss: 0.0398 - accuracy: 0.9871 - val_loss: 0.4828 - val_accuracy: 0.9737\n",
            "Epoch 13/50\n",
            "1875/1875 [==============================] - 7s 4ms/step - loss: 0.0379 - accuracy: 0.9879 - val_loss: 0.3859 - val_accuracy: 0.9733\n",
            "Epoch 14/50\n",
            "1875/1875 [==============================] - 7s 4ms/step - loss: 0.0356 - accuracy: 0.9886 - val_loss: 0.5442 - val_accuracy: 0.9735\n",
            "Epoch 15/50\n",
            "1875/1875 [==============================] - 7s 4ms/step - loss: 0.0311 - accuracy: 0.9902 - val_loss: 0.2881 - val_accuracy: 0.9751\n",
            "Epoch 16/50\n",
            "1875/1875 [==============================] - 7s 4ms/step - loss: 0.0310 - accuracy: 0.9897 - val_loss: 0.3967 - val_accuracy: 0.9744\n",
            "Epoch 17/50\n",
            "1875/1875 [==============================] - 7s 4ms/step - loss: 0.0307 - accuracy: 0.9894 - val_loss: 0.3455 - val_accuracy: 0.9732\n",
            "Epoch 18/50\n",
            "1875/1875 [==============================] - 7s 4ms/step - loss: 0.0297 - accuracy: 0.9903 - val_loss: 0.5714 - val_accuracy: 0.9766\n",
            "Epoch 19/50\n",
            "1875/1875 [==============================] - 7s 4ms/step - loss: 0.0263 - accuracy: 0.9913 - val_loss: 0.3572 - val_accuracy: 0.9745\n",
            "Epoch 20/50\n",
            "1875/1875 [==============================] - 7s 4ms/step - loss: 0.0261 - accuracy: 0.9916 - val_loss: 0.4394 - val_accuracy: 0.9763\n",
            "Epoch 21/50\n",
            "1875/1875 [==============================] - 7s 4ms/step - loss: 0.0258 - accuracy: 0.9913 - val_loss: 0.7096 - val_accuracy: 0.9753\n",
            "Epoch 22/50\n",
            "1875/1875 [==============================] - 7s 4ms/step - loss: 0.0222 - accuracy: 0.9926 - val_loss: 0.4627 - val_accuracy: 0.9753\n",
            "Epoch 23/50\n",
            "1875/1875 [==============================] - 7s 4ms/step - loss: 0.0241 - accuracy: 0.9923 - val_loss: 1.0967 - val_accuracy: 0.9717\n",
            "Epoch 24/50\n",
            "1875/1875 [==============================] - 7s 4ms/step - loss: 0.0222 - accuracy: 0.9925 - val_loss: 0.3923 - val_accuracy: 0.9785\n",
            "Epoch 25/50\n",
            "1875/1875 [==============================] - 7s 4ms/step - loss: 0.0233 - accuracy: 0.9918 - val_loss: 0.3554 - val_accuracy: 0.9755\n",
            "Epoch 26/50\n",
            "1875/1875 [==============================] - 7s 4ms/step - loss: 0.0211 - accuracy: 0.9924 - val_loss: 0.5636 - val_accuracy: 0.9751\n",
            "Epoch 27/50\n",
            "1875/1875 [==============================] - 7s 4ms/step - loss: 0.0184 - accuracy: 0.9939 - val_loss: 0.4520 - val_accuracy: 0.9762\n",
            "Epoch 28/50\n",
            "1875/1875 [==============================] - 7s 4ms/step - loss: 0.0190 - accuracy: 0.9939 - val_loss: 0.7520 - val_accuracy: 0.9757\n",
            "Epoch 29/50\n",
            "1875/1875 [==============================] - 7s 4ms/step - loss: 0.0190 - accuracy: 0.9936 - val_loss: 0.3816 - val_accuracy: 0.9764\n",
            "Epoch 30/50\n",
            "1875/1875 [==============================] - 7s 4ms/step - loss: 0.0190 - accuracy: 0.9936 - val_loss: 1.0142 - val_accuracy: 0.9753\n",
            "Epoch 31/50\n",
            "1875/1875 [==============================] - 7s 4ms/step - loss: 0.0192 - accuracy: 0.9936 - val_loss: 0.5546 - val_accuracy: 0.9751\n",
            "Epoch 32/50\n",
            "1875/1875 [==============================] - 7s 4ms/step - loss: 0.0180 - accuracy: 0.9938 - val_loss: 0.6677 - val_accuracy: 0.9747\n",
            "Epoch 33/50\n",
            "1875/1875 [==============================] - 7s 4ms/step - loss: 0.0168 - accuracy: 0.9946 - val_loss: 0.4716 - val_accuracy: 0.9761\n",
            "Epoch 34/50\n",
            "1875/1875 [==============================] - 7s 4ms/step - loss: 0.0164 - accuracy: 0.9949 - val_loss: 0.8621 - val_accuracy: 0.9751\n",
            "Epoch 35/50\n",
            "1875/1875 [==============================] - 7s 4ms/step - loss: 0.0141 - accuracy: 0.9953 - val_loss: 0.5922 - val_accuracy: 0.9746\n",
            "Epoch 36/50\n",
            "1875/1875 [==============================] - 8s 4ms/step - loss: 0.0167 - accuracy: 0.9944 - val_loss: 0.4711 - val_accuracy: 0.9746\n",
            "Epoch 37/50\n",
            "1875/1875 [==============================] - 7s 4ms/step - loss: 0.0133 - accuracy: 0.9955 - val_loss: 0.5168 - val_accuracy: 0.9748\n",
            "Epoch 38/50\n",
            "1875/1875 [==============================] - 7s 4ms/step - loss: 0.0176 - accuracy: 0.9941 - val_loss: 0.5856 - val_accuracy: 0.9760\n",
            "Epoch 39/50\n",
            "1875/1875 [==============================] - 7s 4ms/step - loss: 0.0145 - accuracy: 0.9952 - val_loss: 0.7110 - val_accuracy: 0.9758\n",
            "Epoch 40/50\n",
            "1875/1875 [==============================] - 7s 4ms/step - loss: 0.0151 - accuracy: 0.9949 - val_loss: 0.7151 - val_accuracy: 0.9747\n",
            "Epoch 41/50\n",
            "1875/1875 [==============================] - 7s 4ms/step - loss: 0.0144 - accuracy: 0.9951 - val_loss: 0.4418 - val_accuracy: 0.9758\n",
            "Epoch 42/50\n",
            "1875/1875 [==============================] - 7s 4ms/step - loss: 0.0140 - accuracy: 0.9954 - val_loss: 0.6634 - val_accuracy: 0.9756\n",
            "Epoch 43/50\n",
            "1875/1875 [==============================] - 7s 4ms/step - loss: 0.0118 - accuracy: 0.9960 - val_loss: 0.6226 - val_accuracy: 0.9753\n",
            "Epoch 44/50\n",
            "1875/1875 [==============================] - 7s 4ms/step - loss: 0.0151 - accuracy: 0.9949 - val_loss: 0.9513 - val_accuracy: 0.9738\n",
            "Epoch 45/50\n",
            "1875/1875 [==============================] - 7s 4ms/step - loss: 0.0131 - accuracy: 0.9956 - val_loss: 0.5890 - val_accuracy: 0.9735\n",
            "Epoch 46/50\n",
            "1875/1875 [==============================] - 7s 4ms/step - loss: 0.0129 - accuracy: 0.9959 - val_loss: 0.5304 - val_accuracy: 0.9732\n",
            "Epoch 47/50\n",
            "1875/1875 [==============================] - 7s 4ms/step - loss: 0.0128 - accuracy: 0.9957 - val_loss: 0.5915 - val_accuracy: 0.9761\n",
            "Epoch 48/50\n",
            "1875/1875 [==============================] - 7s 4ms/step - loss: 0.0135 - accuracy: 0.9954 - val_loss: 0.8447 - val_accuracy: 0.9773\n",
            "Epoch 49/50\n",
            "1875/1875 [==============================] - 7s 4ms/step - loss: 0.0107 - accuracy: 0.9965 - val_loss: 0.8192 - val_accuracy: 0.9763\n",
            "Epoch 50/50\n",
            "1875/1875 [==============================] - 7s 4ms/step - loss: 0.0120 - accuracy: 0.9960 - val_loss: 1.0403 - val_accuracy: 0.9734\n"
          ],
          "name": "stdout"
        }
      ]
    },
    {
      "cell_type": "markdown",
      "metadata": {
        "id": "Y5017UOGgS7K",
        "colab_type": "text"
      },
      "source": [
        "> optimizers\n",
        "1. SGD\n",
        "2. Adam\n",
        "3. Nestrov\n",
        "4. AdaDelta\n",
        "5. Momentum\n",
        "6. AdaGrad\n"
      ]
    },
    {
      "cell_type": "markdown",
      "metadata": {
        "id": "hlSs3TkchFaN",
        "colab_type": "text"
      },
      "source": [
        "# Analysie all the results? find the differences?"
      ]
    },
    {
      "cell_type": "markdown",
      "metadata": {
        "id": "MN4OfdL3gyoR",
        "colab_type": "text"
      },
      "source": [
        "for more details on hyperparameters check offical site of keras `https://keras.io/getting_started/`"
      ]
    },
    {
      "cell_type": "code",
      "metadata": {
        "id": "wsWXS47Bgdte",
        "colab_type": "code",
        "colab": {}
      },
      "source": [
        ""
      ],
      "execution_count": 0,
      "outputs": []
    }
  ]
}