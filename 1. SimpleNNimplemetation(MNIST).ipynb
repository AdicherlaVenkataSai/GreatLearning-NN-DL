{
  "nbformat": 4,
  "nbformat_minor": 0,
  "metadata": {
    "colab": {
      "name": "1. SimpleNNimplemetation(MNIST).ipynb",
      "provenance": [],
      "collapsed_sections": [],
      "authorship_tag": "ABX9TyPSx+PB9Nhf1swkakSwVqrg",
      "include_colab_link": true
    },
    "kernelspec": {
      "name": "python3",
      "display_name": "Python 3"
    },
    "accelerator": "GPU"
  },
  "cells": [
    {
      "cell_type": "markdown",
      "metadata": {
        "id": "view-in-github",
        "colab_type": "text"
      },
      "source": [
        "<a href=\"https://colab.research.google.com/github/AdicherlaVenkataSai/NeuralNetworks/blob/master/1.%20SimpleNNimplemetation(MNIST).ipynb\" target=\"_parent\"><img src=\"https://colab.research.google.com/assets/colab-badge.svg\" alt=\"Open In Colab\"/></a>"
      ]
    },
    {
      "cell_type": "markdown",
      "metadata": {
        "id": "-DFygqNx_t8C",
        "colab_type": "text"
      },
      "source": [
        "Developing a neural network model from scratch using numpy, sklearn library, on MNIST dataset and calculated the accuracy of the model by adjusting the hyper parameters\n",
        "\n",
        "note: we can directly use sklearn for model development istead we developed using numpy"
      ]
    },
    {
      "cell_type": "code",
      "metadata": {
        "id": "SoRASMItc9bA",
        "colab_type": "code",
        "colab": {}
      },
      "source": [
        "# Import libraries\n",
        "\n",
        "import numpy as np\n",
        "%matplotlib inline\n",
        "import matplotlib\n",
        "import matplotlib.pyplot as plt"
      ],
      "execution_count": 0,
      "outputs": []
    },
    {
      "cell_type": "code",
      "metadata": {
        "id": "eLP_vjR715w2",
        "colab_type": "code",
        "colab": {}
      },
      "source": [
        "# imporitng dataset from sklearn directly\n",
        "from sklearn.datasets import fetch_openml#sklearn has structures for neural networks\n",
        "from sklearn.metrics import classification_report, confusion_matrix# metrics show us how well our model is being performed"
      ],
      "execution_count": 0,
      "outputs": []
    },
    {
      "cell_type": "code",
      "metadata": {
        "id": "akD4oQBW16rm",
        "colab_type": "code",
        "outputId": "bc5d2b6e-694c-47ed-aecb-f8103f34edcb",
        "colab": {
          "base_uri": "https://localhost:8080/",
          "height": 187
        }
      },
      "source": [
        "# read data using fetch_openml() of sklearn\n",
        "# Load data from https://www.openml.org/d/554\n",
        "mnist = fetch_openml('mnist_784')\n",
        "inputData, y = mnist[\"data\"], mnist[\"target\"]\n",
        "print(inputData.shape)\n",
        "print(y.shape)\n",
        "print(inputData)\n",
        "print(y)"
      ],
      "execution_count": 0,
      "outputs": [
        {
          "output_type": "stream",
          "text": [
            "(70000, 784)\n",
            "(70000,)\n",
            "[[0. 0. 0. ... 0. 0. 0.]\n",
            " [0. 0. 0. ... 0. 0. 0.]\n",
            " [0. 0. 0. ... 0. 0. 0.]\n",
            " ...\n",
            " [0. 0. 0. ... 0. 0. 0.]\n",
            " [0. 0. 0. ... 0. 0. 0.]\n",
            " [0. 0. 0. ... 0. 0. 0.]]\n",
            "['5' '0' '4' ... '4' '5' '6']\n"
          ],
          "name": "stdout"
        }
      ]
    },
    {
      "cell_type": "code",
      "metadata": {
        "id": "Ucy0WWuT19lj",
        "colab_type": "code",
        "outputId": "9caa4089-c34a-4467-fad3-c7aa7daf1444",
        "colab": {
          "base_uri": "https://localhost:8080/",
          "height": 153
        }
      },
      "source": [
        "# inputData stores the pixel values 28*28 image , which has a pixel range btw 0 to 255\n",
        "inputData = inputData / 255\n",
        "nDigits = 10\n",
        "print(inputData)\n",
        "print(nDigits)"
      ],
      "execution_count": 0,
      "outputs": [
        {
          "output_type": "stream",
          "text": [
            "[[0. 0. 0. ... 0. 0. 0.]\n",
            " [0. 0. 0. ... 0. 0. 0.]\n",
            " [0. 0. 0. ... 0. 0. 0.]\n",
            " ...\n",
            " [0. 0. 0. ... 0. 0. 0.]\n",
            " [0. 0. 0. ... 0. 0. 0.]\n",
            " [0. 0. 0. ... 0. 0. 0.]]\n",
            "10\n"
          ],
          "name": "stdout"
        }
      ]
    },
    {
      "cell_type": "code",
      "metadata": {
        "id": "OXJ7Vy1i2AUr",
        "colab_type": "code",
        "outputId": "12d25eda-82f0-4e11-a7e7-28a0ccde025c",
        "colab": {
          "base_uri": "https://localhost:8080/",
          "height": 136
        }
      },
      "source": [
        "# one hot encoding ,  matrix of zeros with 70000 * 10 \n",
        "# each row has only one columns with 1 rest are 0's\n",
        "# depending on the digit to be recoginzed\n",
        "# np.zeros(rows, cols) = rows * cols of matrix with all zeros\n",
        "yOneHot = np.zeros([y.shape[0],nDigits])\n",
        "for i in range(y.shape[0]):\n",
        "    yOneHot[i,int(y[i])]=1 # these function replaces every row/col repective valye with 1\n",
        "\n",
        "yOneHot"
      ],
      "execution_count": 0,
      "outputs": [
        {
          "output_type": "execute_result",
          "data": {
            "text/plain": [
              "array([[0., 0., 0., ..., 0., 0., 0.],\n",
              "       [1., 0., 0., ..., 0., 0., 0.],\n",
              "       [0., 0., 0., ..., 0., 0., 0.],\n",
              "       ...,\n",
              "       [0., 0., 0., ..., 0., 0., 0.],\n",
              "       [0., 0., 0., ..., 0., 0., 0.],\n",
              "       [0., 0., 0., ..., 0., 0., 0.]])"
            ]
          },
          "metadata": {
            "tags": []
          },
          "execution_count": 46
        }
      ]
    },
    {
      "cell_type": "code",
      "metadata": {
        "id": "VTKGMgEd2Gk8",
        "colab_type": "code",
        "outputId": "23b1b6ac-d985-46ef-ccee-52ec98303d33",
        "colab": {
          "base_uri": "https://localhost:8080/",
          "height": 34
        }
      },
      "source": [
        "y = yOneHot#using enocded data as y\n",
        "\n",
        "m = 60000#out of 70k samples we're using 60k for the trainig\n",
        "m_test = inputData.shape[0] - m\n",
        "m_test"
      ],
      "execution_count": 0,
      "outputs": [
        {
          "output_type": "execute_result",
          "data": {
            "text/plain": [
              "10000"
            ]
          },
          "metadata": {
            "tags": []
          },
          "execution_count": 47
        }
      ]
    },
    {
      "cell_type": "code",
      "metadata": {
        "id": "FWmQjIFd2fg1",
        "colab_type": "code",
        "outputId": "a8918f5d-0790-4168-ea9d-ddb9708c679a",
        "colab": {
          "base_uri": "https://localhost:8080/",
          "height": 391
        }
      },
      "source": [
        "#dividing the data into train and test(again)\n",
        "y_train, y_test = y[:m,:].reshape(m,nDigits), y[m:,:].reshape(m_test,nDigits)\n",
        "InputData_train, InputData_test = inputData[:m,:], inputData[m:,:]\n",
        "\n",
        "print(x_train)\n",
        "print(x_test)\n",
        "print(y_train)\n",
        "print(y_test)"
      ],
      "execution_count": 0,
      "outputs": [
        {
          "output_type": "stream",
          "text": [
            "[[0. 0. 0. ... 0. 0. 0.]\n",
            " [0. 0. 0. ... 0. 0. 0.]\n",
            " [0. 0. 0. ... 0. 0. 0.]\n",
            " ...\n",
            " [0. 0. 0. ... 0. 0. 0.]\n",
            " [0. 0. 0. ... 0. 0. 0.]\n",
            " [0. 0. 0. ... 0. 0. 0.]]\n",
            "[]\n",
            "[[0. 0. 0. ... 0. 0. 0.]\n",
            " [1. 0. 0. ... 0. 0. 0.]\n",
            " [0. 0. 0. ... 0. 0. 0.]\n",
            " ...\n",
            " [0. 0. 0. ... 0. 0. 0.]\n",
            " [0. 0. 0. ... 0. 0. 0.]\n",
            " [0. 0. 0. ... 0. 1. 0.]]\n",
            "[[0. 0. 0. ... 1. 0. 0.]\n",
            " [0. 0. 1. ... 0. 0. 0.]\n",
            " [0. 1. 0. ... 0. 0. 0.]\n",
            " ...\n",
            " [0. 0. 0. ... 0. 0. 0.]\n",
            " [0. 0. 0. ... 0. 0. 0.]\n",
            " [0. 0. 0. ... 0. 0. 0.]]\n"
          ],
          "name": "stdout"
        }
      ]
    },
    {
      "cell_type": "code",
      "metadata": {
        "id": "pf6Fd2wp_FZh",
        "colab_type": "code",
        "outputId": "cec1885e-06af-48a1-99e6-7c4204ca963a",
        "colab": {
          "base_uri": "https://localhost:8080/",
          "height": 265
        }
      },
      "source": [
        "# Show a random input\n",
        "\n",
        "i = 8047\n",
        "plt.imshow(InputData_train[i,:].reshape(28,28), cmap = matplotlib.cm.binary)\n",
        "plt.axis(\"off\")\n",
        "plt.show()\n",
        "print(y_train[i,:])"
      ],
      "execution_count": 0,
      "outputs": [
        {
          "output_type": "display_data",
          "data": {
            "image/png": "[encoded data removed]",
            "text/plain": [
              "<Figure size 432x288 with 1 Axes>"
            ]
          },
          "metadata": {
            "tags": [],
            "needs_background": "light"
          }
        },
        {
          "output_type": "stream",
          "text": [
            "[0. 0. 0. 0. 0. 0. 0. 0. 1. 0.]\n"
          ],
          "name": "stdout"
        }
      ]
    },
    {
      "cell_type": "markdown",
      "metadata": {
        "id": "PTFzMMBc42Mf",
        "colab_type": "text"
      },
      "source": [
        "Loss funcitons:\n",
        "1. mean square eror\n",
        "  `loss = (y - t)^2`\n",
        "  these loss will be reduced only if y==t\n",
        "\n",
        "  its derivative = 2(y-t) gradient is positve when y>t , negative when y<t\n",
        "\n",
        "\n",
        "2. cross entropy\n",
        "\n",
        "`          c\n",
        "loss =  - E   t_c log y_c\n",
        "           c=1 \n",
        "`\n",
        "\n",
        "y_c should be more inturn to have less loss "
      ]
    },
    {
      "cell_type": "code",
      "metadata": {
        "id": "3juaA5sg06zh",
        "colab_type": "code",
        "colab": {}
      },
      "source": [
        "# defininng activation, loss, and theor derivatives\n",
        "\n",
        "def sigmoid(x):\n",
        "  return 1/(1+np.exp(-x))\n",
        "\n",
        "def sigmoid_derivative(z):\n",
        "  return z* (1-z)\n",
        "\n",
        "'''\n",
        "the above is derivative inturn of output i.e; z\n",
        "the derivative inturns of input i.e; x is follows\n",
        "def sigmoid_derivative(z):\n",
        "  return (1/(1+np.exp(-x))) * (1 - (1/(1+np.exp(-x))))\n",
        "'''\n",
        "\n",
        "def relu (x):\n",
        "  return np.maximum(0,x)\n",
        "\n",
        "def relu_derivative(x):\n",
        "  return 0.5 * (np.sign(x)+ 1) \n",
        "  #its derivative is either 0 / 1\n",
        "\n",
        "def CrossEntropyLoss(y, y_hat):\n",
        "  L_sum = np.sum(np.multiply(y, np.log(y_hat)))\n",
        "  m = y.shape[1]\n",
        "  L = -(1/m) * L_sum\n",
        "  return L\n",
        "\n",
        "def softmax(y):\n",
        "  return np.exp(y) / np.sum(np.exp(y), axis = 0)\n",
        "\n",
        "def CE_Softmax_Derivative(output, ideal_output):\n",
        "  return output - ideal_output"
      ],
      "execution_count": 0,
      "outputs": []
    },
    {
      "cell_type": "code",
      "metadata": {
        "id": "Yc0LXot809TB",
        "colab_type": "code",
        "colab": {}
      },
      "source": [
        "inputDim = InputData_train.shape[1]\n",
        "nHidden = 64#no of hidden nodes\n",
        "learning_rate = 0.1\n",
        "weight_decay = 0.001# regularizer on L2 norm of weights\n",
        "\n",
        "W1 = 0.01*np.random.randn(nHidden, inputDim)\n",
        "# weigths for input layer to hidden layer\n",
        "#use random gaussian variable to generate random no's\n",
        "#instead of uniform random variable , reason is all wt going to be positive\n",
        "b1 = np.zeros((nHidden, 1))\n",
        "#bias usually set to 0 , equal to no of output nodes\n",
        "W2 = 0.01*np.random.randn(nDigits, nHidden)\n",
        "# weigths for hidden layer to output layer\n",
        "b2 = np.zeros((nDigits, 1))\n",
        "#bias usually set to 0 , equal to no of output nodes\n",
        "\n",
        "inputData = InputData_train\n",
        "y = y_train\n"
      ],
      "execution_count": 0,
      "outputs": []
    },
    {
      "cell_type": "code",
      "metadata": {
        "id": "Bel5nLKy1AOO",
        "colab_type": "code",
        "outputId": "76ff5559-75b3-462d-9e47-b0dd1f7d0d72",
        "colab": {
          "base_uri": "https://localhost:8080/",
          "height": 466
        }
      },
      "source": [
        "nEpochs = 100\n",
        "costPlot = np.zeros(nEpochs)\n",
        "#plot the loss at each epoch\n",
        "\n",
        "for i in range(nEpochs):\n",
        "\n",
        "    #forward pass\n",
        "    Z1 = np.matmul(W1,inputData.T) + b1\n",
        "    A1 = relu(Z1)#activation function\n",
        "    Z2 = np.matmul(W2,A1) + b2\n",
        "    A2 = softmax(Z2)#ouptut of NN wrt softmax activation function\n",
        "    # for each of 60k input we have 10 dim vector\n",
        "\n",
        "    cost = CrossEntropyLoss(y.T, A2)#cal the cost and save in costPlot\n",
        "    costPlot[i] = cost\n",
        "\n",
        "    #backpropoagation using chain rule\n",
        "    dZ2 = CE_Softmax_Derivative(A2,y.T)# derivative of loss wrt Z2\n",
        "    dW2 = (1./m) * np.matmul(dZ2, A1.T)# derivative of W2 =  derivative of loss Wrt Z2 * derivate of A1\n",
        "    db2 = (1./m) * np.sum(dZ2, axis=1, keepdims=True)# derivative of bias = cal using  derivative of loss wrt Z2\n",
        "\n",
        "    dA1 = np.matmul(W2.T, dZ2)\n",
        "    dZ1 = dA1 * relu_derivative(Z1)\n",
        "    dW1 = (1./m) * np.matmul(dZ1, inputData)\n",
        "    db1 = (1./m) * np.sum(dZ1, axis=1, keepdims=True)\n",
        "\n",
        "    #updating the weights\n",
        "    W2 -= learning_rate * dW2 + weight_decay * W2\n",
        "    b2 -= learning_rate * db2\n",
        "    W1 -= learning_rate * dW1 + weight_decay * W1\n",
        "    b1 -= learning_rate * db1\n",
        "    \n",
        "    if (i % 10 == 0):\n",
        "        print(\"Epoch\", i, \"cost: \", cost)\n",
        "    \n",
        "plt.plot(costPlot)\n",
        "plt.xlabel('Epochs')\n",
        "plt.ylabel('Training Loss')\n",
        "plt.show\n"
      ],
      "execution_count": 0,
      "outputs": [
        {
          "output_type": "stream",
          "text": [
            "Epoch 0 cost:  2.3025926683067466\n",
            "Epoch 10 cost:  2.2967478477382293\n",
            "Epoch 20 cost:  2.2866918012286335\n",
            "Epoch 30 cost:  2.265755988591673\n",
            "Epoch 40 cost:  2.2223800410151555\n",
            "Epoch 50 cost:  2.1406764812990917\n",
            "Epoch 60 cost:  2.0069494183095484\n",
            "Epoch 70 cost:  1.8168370196616284\n",
            "Epoch 80 cost:  1.590899414563243\n",
            "Epoch 90 cost:  1.3702588002949077\n"
          ],
          "name": "stdout"
        },
        {
          "output_type": "execute_result",
          "data": {
            "text/plain": [
              "<function matplotlib.pyplot.show>"
            ]
          },
          "metadata": {
            "tags": []
          },
          "execution_count": 52
        },
        {
          "output_type": "display_data",
          "data": {
            "image/png": "[encoded data removed]",
            "text/plain": [
              "<Figure size 432x288 with 1 Axes>"
            ]
          },
          "metadata": {
            "tags": [],
            "needs_background": "light"
          }
        }
      ]
    },
    {
      "cell_type": "code",
      "metadata": {
        "id": "-oDhCPo01D3P",
        "colab_type": "code",
        "outputId": "0721c4a0-a5b2-4fab-a01f-93b144f0ca1f",
        "colab": {
          "base_uri": "https://localhost:8080/",
          "height": 476
        }
      },
      "source": [
        "#on test daata\n",
        "Z1 = np.matmul(W1, InputData_test.T) + b1\n",
        "A1 = relu(Z1)\n",
        "Z2 = np.matmul(W2, A1) + b2\n",
        "\n",
        "predictions = np.argmax(Z2, axis=0)\n",
        "labels = np.argmax(y_test.T, axis=0)\n",
        "\n",
        "print(confusion_matrix(predictions, labels))\n",
        "print(classification_report(predictions, labels))\n"
      ],
      "execution_count": 0,
      "outputs": [
        {
          "output_type": "stream",
          "text": [
            "[[ 957    0   40   12    8   70   45   14   22   24]\n",
            " [   0 1123   84   19   23   30   30   56   58   20]\n",
            " [   2    3  756   27    4   15   11   16   33    2]\n",
            " [   5    3   29  846    0  327    6    0  126   13]\n",
            " [   0    0   14    0  553   13   10    1    9  106]\n",
            " [   1    0    1    6    0  231    2    0    4    2]\n",
            " [   9    3   58    8   37   52  845    0   15    4]\n",
            " [   1    1   16   20    3   58    0  905   22  230]\n",
            " [   5    2   30   63   13   71    8   15  651   14]\n",
            " [   0    0    4    9  341   25    1   21   34  594]]\n",
            "              precision    recall  f1-score   support\n",
            "\n",
            "           0       0.98      0.80      0.88      1192\n",
            "           1       0.99      0.78      0.87      1443\n",
            "           2       0.73      0.87      0.80       869\n",
            "           3       0.84      0.62      0.72      1355\n",
            "           4       0.56      0.78      0.66       706\n",
            "           5       0.26      0.94      0.41       247\n",
            "           6       0.88      0.82      0.85      1031\n",
            "           7       0.88      0.72      0.79      1256\n",
            "           8       0.67      0.75      0.71       872\n",
            "           9       0.59      0.58      0.58      1029\n",
            "\n",
            "    accuracy                           0.75     10000\n",
            "   macro avg       0.74      0.77      0.73     10000\n",
            "weighted avg       0.80      0.75      0.76     10000\n",
            "\n"
          ],
          "name": "stdout"
        }
      ]
    },
    {
      "cell_type": "markdown",
      "metadata": {
        "id": "8vEEcvdH7hRW",
        "colab_type": "text"
      },
      "source": [
        "####lr = 0.1"
      ]
    },
    {
      "cell_type": "code",
      "metadata": {
        "id": "IMzzuTzA1Crr",
        "colab_type": "code",
        "outputId": "b7828dc9-e90e-415f-a086-2062c76c51eb",
        "colab": {
          "base_uri": "https://localhost:8080/",
          "height": 466
        }
      },
      "source": [
        "# trying with different learning rate = 0.1\n",
        "learning_rate = 0.1\n",
        "nEpochs = 100\n",
        "costPlot = np.zeros(nEpochs)\n",
        "#plot the loss at each epoch\n",
        "\n",
        "for i in range(nEpochs):\n",
        "\n",
        "    #forward pass\n",
        "    Z1 = np.matmul(W1,inputData.T) + b1\n",
        "    A1 = relu(Z1)#activation function\n",
        "    Z2 = np.matmul(W2,A1) + b2\n",
        "    A2 = softmax(Z2)#ouptut of NN wrt softmax activation function\n",
        "    # for each of 60k input we have 10 dim vector\n",
        "\n",
        "    cost = CrossEntropyLoss(y.T, A2)#cal the cost and save in costPlot\n",
        "    costPlot[i] = cost\n",
        "\n",
        "    #backpropoagation using chain rule\n",
        "    dZ2 = CE_Softmax_Derivative(A2,y.T)# derivative of loss wrt Z2\n",
        "    dW2 = (1./m) * np.matmul(dZ2, A1.T)# derivative of W2 =  derivative of loss Wrt Z2 * derivate of A1\n",
        "    db2 = (1./m) * np.sum(dZ2, axis=1, keepdims=True)# derivative of bias = cal using  derivative of loss wrt Z2\n",
        "\n",
        "    dA1 = np.matmul(W2.T, dZ2)\n",
        "    dZ1 = dA1 * relu_derivative(Z1)\n",
        "    dW1 = (1./m) * np.matmul(dZ1, inputData)\n",
        "    db1 = (1./m) * np.sum(dZ1, axis=1, keepdims=True)\n",
        "\n",
        "    #updating the weights\n",
        "    W2 -= learning_rate * dW2 + weight_decay * W2\n",
        "    b2 -= learning_rate * db2\n",
        "    W1 -= learning_rate * dW1 + weight_decay * W1\n",
        "    b1 -= learning_rate * db1\n",
        "    \n",
        "    if (i % 10 == 0):\n",
        "        print(\"Epoch\", i, \"cost: \", cost)\n",
        "    \n",
        "plt.plot(costPlot)\n",
        "plt.xlabel('Epochs')\n",
        "plt.ylabel('Training Loss')\n",
        "plt.show\n"
      ],
      "execution_count": 0,
      "outputs": [
        {
          "output_type": "stream",
          "text": [
            "Epoch 0 cost:  1.1841595778547134\n",
            "Epoch 10 cost:  1.0387520447187006\n",
            "Epoch 20 cost:  0.9273086685377763\n",
            "Epoch 30 cost:  0.841416377654689\n",
            "Epoch 40 cost:  0.7743553916431688\n",
            "Epoch 50 cost:  0.7211758039595011\n",
            "Epoch 60 cost:  0.6783059542564392\n",
            "Epoch 70 cost:  0.643173592479092\n",
            "Epoch 80 cost:  0.6139303368036677\n",
            "Epoch 90 cost:  0.5892411424211795\n"
          ],
          "name": "stdout"
        },
        {
          "output_type": "execute_result",
          "data": {
            "text/plain": [
              "<function matplotlib.pyplot.show>"
            ]
          },
          "metadata": {
            "tags": []
          },
          "execution_count": 55
        },
        {
          "output_type": "display_data",
          "data": {
            "image/png": "[encoded data removed]",
            "text/plain": [
              "<Figure size 432x288 with 1 Axes>"
            ]
          },
          "metadata": {
            "tags": [],
            "needs_background": "light"
          }
        }
      ]
    },
    {
      "cell_type": "code",
      "metadata": {
        "id": "bas6A7KL7tHa",
        "colab_type": "code",
        "outputId": "fc5423ef-9f61-4eba-fae1-e0b79c6e25fd",
        "colab": {
          "base_uri": "https://localhost:8080/",
          "height": 476
        }
      },
      "source": [
        "#on test daata\n",
        "Z1 = np.matmul(W1, InputData_test.T) + b1\n",
        "A1 = relu(Z1)\n",
        "Z2 = np.matmul(W2, A1) + b2\n",
        "\n",
        "predictions = np.argmax(Z2, axis=0)\n",
        "labels = np.argmax(y_test.T, axis=0)\n",
        "\n",
        "print(confusion_matrix(predictions, labels))\n",
        "print(classification_report(predictions, labels))"
      ],
      "execution_count": 0,
      "outputs": [
        {
          "output_type": "stream",
          "text": [
            "[[ 951    0   16    6    2   21   23    5    8   10]\n",
            " [   0 1103   21    4    6    6    4   28   17    7]\n",
            " [   5    1  865   22    3    8   16   26   18    7]\n",
            " [   1    4   23  881    0   86    1    0   40    8]\n",
            " [   0    0   25    0  847   12   15    7   14  107]\n",
            " [  13    0    1   34    0  641   19    0   44   13]\n",
            " [   8    4   27    4   18   34  876    0   18    1]\n",
            " [   1    0   18   22    0   13    0  902   11   46]\n",
            " [   1   22   35   31   12   55    4   10  780   14]\n",
            " [   0    1    1    6   94   16    0   50   24  796]]\n",
            "              precision    recall  f1-score   support\n",
            "\n",
            "           0       0.97      0.91      0.94      1042\n",
            "           1       0.97      0.92      0.95      1196\n",
            "           2       0.84      0.89      0.86       971\n",
            "           3       0.87      0.84      0.86      1044\n",
            "           4       0.86      0.82      0.84      1027\n",
            "           5       0.72      0.84      0.77       765\n",
            "           6       0.91      0.88      0.90       990\n",
            "           7       0.88      0.89      0.88      1013\n",
            "           8       0.80      0.81      0.80       964\n",
            "           9       0.79      0.81      0.80       988\n",
            "\n",
            "    accuracy                           0.86     10000\n",
            "   macro avg       0.86      0.86      0.86     10000\n",
            "weighted avg       0.87      0.86      0.87     10000\n",
            "\n"
          ],
          "name": "stdout"
        }
      ]
    },
    {
      "cell_type": "markdown",
      "metadata": {
        "id": "XCZSZ6SC7UEL",
        "colab_type": "text"
      },
      "source": [
        "####more hidden nodes , lr = 0.1"
      ]
    },
    {
      "cell_type": "code",
      "metadata": {
        "id": "OB2yADqY1J8W",
        "colab_type": "code",
        "outputId": "035eda99-4968-46bb-9a3e-6dae907a9fa2",
        "colab": {
          "base_uri": "https://localhost:8080/",
          "height": 908
        }
      },
      "source": [
        "#trying with more hidden nodes\n",
        "\n",
        "inputDim = InputData_train.shape[1]\n",
        "nHidden = 128#no of hidden nodes\n",
        "learning_rate = 0.1\n",
        "weight_decay = 0.001# regularizer on L2 norm of weights\n",
        "\n",
        "W1 = 0.01*np.random.randn(nHidden, inputDim)\n",
        "# weigths for input layer to hidden layer\n",
        "#use random gaussian variable to generate random no's\n",
        "#instead of uniform random variable , reason is all wt going to be positive\n",
        "b1 = np.zeros((nHidden, 1))\n",
        "#bias usually set to 0 , equal to no of output nodes\n",
        "W2 = 0.01*np.random.randn(nDigits, nHidden)\n",
        "# weigths for hidden layer to output layer\n",
        "b2 = np.zeros((nDigits, 1))\n",
        "#bias usually set to 0 , equal to no of output nodes\n",
        "\n",
        "inputData = InputData_train\n",
        "y = y_train\n",
        "\n",
        "\n",
        "nEpochs = 100\n",
        "costPlot = np.zeros(nEpochs)\n",
        "#plot the loss at each epoch\n",
        "\n",
        "for i in range(nEpochs):\n",
        "\n",
        "    #forward pass\n",
        "    Z1 = np.matmul(W1,inputData.T) + b1\n",
        "    A1 = relu(Z1)#activation function\n",
        "    Z2 = np.matmul(W2,A1) + b2\n",
        "    A2 = softmax(Z2)#ouptut of NN wrt softmax activation function\n",
        "    # for each of 60k input we have 10 dim vector\n",
        "\n",
        "    cost = CrossEntropyLoss(y.T, A2)#cal the cost and save in costPlot\n",
        "    costPlot[i] = cost\n",
        "\n",
        "    #backpropoagation using chain rule\n",
        "    dZ2 = CE_Softmax_Derivative(A2,y.T)# derivative of loss wrt Z2\n",
        "    dW2 = (1./m) * np.matmul(dZ2, A1.T)# derivative of W2 =  derivative of loss Wrt Z2 * derivate of A1\n",
        "    db2 = (1./m) * np.sum(dZ2, axis=1, keepdims=True)# derivative of bias = cal using  derivative of loss wrt Z2\n",
        "\n",
        "    dA1 = np.matmul(W2.T, dZ2)\n",
        "    dZ1 = dA1 * relu_derivative(Z1)\n",
        "    dW1 = (1./m) * np.matmul(dZ1, inputData)\n",
        "    db1 = (1./m) * np.sum(dZ1, axis=1, keepdims=True)\n",
        "\n",
        "    #updating the weights\n",
        "    W2 -= learning_rate * dW2 + weight_decay * W2\n",
        "    b2 -= learning_rate * db2\n",
        "    W1 -= learning_rate * dW1 + weight_decay * W1\n",
        "    b1 -= learning_rate * db1\n",
        "    \n",
        "    if (i % 10 == 0):\n",
        "        print(\"Epoch\", i, \"cost: \", cost)\n",
        "    \n",
        "plt.plot(costPlot)\n",
        "plt.xlabel('Epochs')\n",
        "plt.ylabel('Training Loss')\n",
        "plt.show\n",
        "\n",
        "\n",
        "#on test daata\n",
        "Z1 = np.matmul(W1, InputData_test.T) + b1\n",
        "A1 = relu(Z1)\n",
        "Z2 = np.matmul(W2, A1) + b2\n",
        "\n",
        "predictions = np.argmax(Z2, axis=0)\n",
        "labels = np.argmax(y_test.T, axis=0)\n",
        "\n",
        "print(confusion_matrix(predictions, labels))\n",
        "print(classification_report(predictions, labels))"
      ],
      "execution_count": 0,
      "outputs": [
        {
          "output_type": "stream",
          "text": [
            "Epoch 0 cost:  2.302814425153515\n",
            "Epoch 10 cost:  2.293711133344088\n",
            "Epoch 20 cost:  2.27740655119013\n",
            "Epoch 30 cost:  2.2422019822863968\n",
            "Epoch 40 cost:  2.1697707980720478\n",
            "Epoch 50 cost:  2.0407897945107614\n",
            "Epoch 60 cost:  1.8491181742688068\n",
            "Epoch 70 cost:  1.6122751785750218\n",
            "Epoch 80 cost:  1.375406663988631\n",
            "Epoch 90 cost:  1.1783386513765757\n",
            "[[ 941    0   36    8    1   66   29    9   16   17]\n",
            " [   0 1115   53   16   12   27   11   54   44   18]\n",
            " [   2    3  771   31    1   35   25   15   35    3]\n",
            " [   6    4   45  859    0  278    2    1   96   12]\n",
            " [   0    0   31    0  790   17   14   11   21  215]\n",
            " [  10    0    1   10    0  295    7    0   18    4]\n",
            " [  15    2   53    3   31   42  858    1   14    5]\n",
            " [   1    1   15   23    2   46    0  890   21   91]\n",
            " [   5   10   25   49   10   62   12   16  678   13]\n",
            " [   0    0    2   11  135   24    0   31   31  631]]\n",
            "              precision    recall  f1-score   support\n",
            "\n",
            "           0       0.96      0.84      0.89      1123\n",
            "           1       0.98      0.83      0.90      1350\n",
            "           2       0.75      0.84      0.79       921\n",
            "           3       0.85      0.66      0.74      1303\n",
            "           4       0.80      0.72      0.76      1099\n",
            "           5       0.33      0.86      0.48       345\n",
            "           6       0.90      0.84      0.87      1024\n",
            "           7       0.87      0.82      0.84      1090\n",
            "           8       0.70      0.77      0.73       880\n",
            "           9       0.63      0.73      0.67       865\n",
            "\n",
            "    accuracy                           0.78     10000\n",
            "   macro avg       0.78      0.79      0.77     10000\n",
            "weighted avg       0.82      0.78      0.79     10000\n",
            "\n"
          ],
          "name": "stdout"
        },
        {
          "output_type": "display_data",
          "data": {
            "image/png": "[encoded data removed]",
            "text/plain": [
              "<Figure size 432x288 with 1 Axes>"
            ]
          },
          "metadata": {
            "tags": [],
            "needs_background": "light"
          }
        }
      ]
    },
    {
      "cell_type": "markdown",
      "metadata": {
        "id": "XBa5_Z3X-OJd",
        "colab_type": "text"
      },
      "source": [
        "Change in lr and no of hidden nodes impact the accuray\n",
        "note: dont change two parameters at a time, because we cant decide which hyper parameter effects the model"
      ]
    }
  ]
}