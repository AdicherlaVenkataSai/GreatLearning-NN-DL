{
  "nbformat": 4,
  "nbformat_minor": 0,
  "metadata": {
    "colab": {
      "name": "2. HousePricePredictionTF.ipynb",
      "provenance": [],
      "private_outputs": true,
      "collapsed_sections": [],
      "include_colab_link": true
    },
    "kernelspec": {
      "display_name": "Python 3",
      "name": "python3"
    }
  },
  "cells": [
    {
      "cell_type": "markdown",
      "metadata": {
        "id": "view-in-github",
        "colab_type": "text"
      },
      "source": [
        "<a href=\"https://colab.research.google.com/github/AdicherlaVenkataSai/NeuralNetworks/blob/master/2.%20HousePricePredictionTF.ipynb\" target=\"_parent\"><img src=\"https://colab.research.google.com/assets/colab-badge.svg\" alt=\"Open In Colab\"/></a>"
      ]
    },
    {
      "cell_type": "markdown",
      "metadata": {
        "id": "oqBSd42j10u7",
        "colab_type": "text"
      },
      "source": [
        "#Introduction\n",
        "\n",
        "* using Boston house Price Data(available within tensoflow library/either search internet)\n",
        "\n",
        "________________________________________________________________________________________________________________________________________________________________\n",
        "### flow\n",
        "\n",
        "load data\n",
        "1. Input features and actual output\n",
        "2. Weight and bias\n",
        "3. Prediction( weight* features + bias)\n",
        "4. loss(pedicted - actual)\n",
        "5. Define Gradient Descent Optimizer, pass the learning rate\n",
        "6. Make changes in the weights according to the gradients\n",
        "\n",
        "loop until we achive less \n",
        "\n",
        "________________________________________________________________________________________________________________________________________________________________\n",
        "\n",
        "* all Models are graphs(computational \n",
        "graph) but not vice versa\n",
        "\n",
        "* computational graph of linear regression, link\n",
        "\n",
        "`https://drive.google.com/file/d/1W8G5Sa4ubNcSXxrBksu0lqFILT0W2Io3/view?usp=sharing`\n",
        "\n",
        "_________________\n",
        "\n",
        "* tf.constant(learning rate)\n",
        "* tf.variables(w1,w2,w3, b)\n",
        "* tf.placeholders( input - x1,x2,x3, output- y_)\n",
        "________________________________________________________________________________________________________________________________________________________________\n",
        "create a session in tensorflow, and execute the node\n",
        "executing the GD node will executes all the nodes which are dependent on\n",
        "\n",
        "GD --> Loss --> Prediction --> weight*feature + b --> weight*feature  nodes "
      ]
    },
    {
      "cell_type": "markdown",
      "metadata": {
        "colab_type": "text",
        "id": "BLa7pMszhTi-"
      },
      "source": [
        "#Implementation\n",
        "### Load tensorFlow"
      ]
    },
    {
      "cell_type": "code",
      "metadata": {
        "colab_type": "code",
        "id": "BRBQvYdMhTjB",
        "colab": {}
      },
      "source": [
        "import tensorflow as tf"
      ],
      "execution_count": 0,
      "outputs": []
    },
    {
      "cell_type": "code",
      "metadata": {
        "colab_type": "code",
        "id": "HWUJEMe6hTjI",
        "colab": {}
      },
      "source": [
        "#Reset Default graph - Needed only for Jupyter notebook\n"
      ],
      "execution_count": 0,
      "outputs": []
    },
    {
      "cell_type": "markdown",
      "metadata": {
        "colab_type": "text",
        "id": "dQBZEvI2hTjN"
      },
      "source": [
        "### Collect Data"
      ]
    },
    {
      "cell_type": "code",
      "metadata": {
        "colab_type": "code",
        "id": "I1pf0jmOhTjO",
        "colab": {}
      },
      "source": [
        "from tensorflow.python.keras.datasets import boston_housing\n",
        "\n",
        "#Load data\n",
        "(features, actual_prices),_ = boston_housing.load_data(test_split=0)"
      ],
      "execution_count": 0,
      "outputs": []
    },
    {
      "cell_type": "code",
      "metadata": {
        "colab_type": "code",
        "id": "0izmyrzshTjT",
        "colab": {}
      },
      "source": [
        "print('Number of examples: ', features.shape[0])\n",
        "print('Number of features for each example: ', features.shape[1])\n",
        "print('Shape of actual prices data: ', actual_prices.shape)"
      ],
      "execution_count": 0,
      "outputs": []
    },
    {
      "cell_type": "markdown",
      "metadata": {
        "colab_type": "text",
        "id": "4gr5rVjNhTjX"
      },
      "source": [
        "# Building the graph"
      ]
    },
    {
      "cell_type": "markdown",
      "metadata": {
        "colab_type": "text",
        "id": "BEyeiK7dhTjY"
      },
      "source": [
        "Define input data placeholders"
      ]
    },
    {
      "cell_type": "code",
      "metadata": {
        "id": "d7BPnYXhzzIf",
        "colab_type": "code",
        "colab": {}
      },
      "source": [
        "pip install tensorflow==1.4.0"
      ],
      "execution_count": 0,
      "outputs": []
    },
    {
      "cell_type": "code",
      "metadata": {
        "colab_type": "code",
        "id": "5UBr1ykchTjZ",
        "colab": {}
      },
      "source": [
        "#Input features\n",
        "x = tf.placeholder(shape=[None,13],dtype=tf.float32, name='x-input')\n",
        "\n",
        "#Actual Prices\n",
        "y_ = tf.placeholder(shape=[None],dtype=tf.float32, name='y-input')"
      ],
      "execution_count": 0,
      "outputs": []
    },
    {
      "cell_type": "markdown",
      "metadata": {
        "colab_type": "text",
        "id": "HG8jzFozhTjf"
      },
      "source": [
        "Define Weights and Bias"
      ]
    },
    {
      "cell_type": "code",
      "metadata": {
        "colab_type": "code",
        "id": "C8e6IKIihTji",
        "colab": {}
      },
      "source": [
        "W = tf.Variable(tf.zeros(shape=[13,1]), name=\"Weights\")\n",
        "b = tf.Variable(tf.zeros(shape=[1]), name=\"Bias\")"
      ],
      "execution_count": 0,
      "outputs": []
    },
    {
      "cell_type": "markdown",
      "metadata": {
        "colab_type": "text",
        "id": "lolG0RDchTjn"
      },
      "source": [
        "Prediction"
      ]
    },
    {
      "cell_type": "code",
      "metadata": {
        "colab_type": "code",
        "id": "OhnguL4nhTjp",
        "colab": {}
      },
      "source": [
        "y = tf.add(tf.matmul(x,W),b,name='output')"
      ],
      "execution_count": 0,
      "outputs": []
    },
    {
      "cell_type": "markdown",
      "metadata": {
        "colab_type": "text",
        "id": "V4k0IxlNhTjv"
      },
      "source": [
        "Loss (Cost) Function"
      ]
    },
    {
      "cell_type": "code",
      "metadata": {
        "colab_type": "code",
        "id": "OcvFZLzUhTjw",
        "colab": {}
      },
      "source": [
        "loss = tf.reduce_mean(tf.square(y-y_),name='Loss')"
      ],
      "execution_count": 0,
      "outputs": []
    },
    {
      "cell_type": "markdown",
      "metadata": {
        "colab_type": "text",
        "id": "9OFlN_61hTj0"
      },
      "source": [
        "GradientDescent Optimizer to minimize Loss"
      ]
    },
    {
      "cell_type": "code",
      "metadata": {
        "colab_type": "code",
        "id": "lIPqs9IghTj1",
        "colab": {}
      },
      "source": [
        "train_op = tf.train.GradientDescentOptimizer(0.03).minimize(loss)"
      ],
      "execution_count": 0,
      "outputs": []
    },
    {
      "cell_type": "markdown",
      "metadata": {
        "colab_type": "text",
        "id": "KVARKESwhTj5"
      },
      "source": [
        "# Executing the Graph"
      ]
    },
    {
      "cell_type": "code",
      "metadata": {
        "colab_type": "code",
        "id": "xUrkbzXahTj8",
        "colab": {}
      },
      "source": [
        "#Lets start graph Execution\n",
        "sess = tf.Session()\n",
        "\n",
        "# variables need to be initialized before we can use them\n",
        "sess.run(tf.global_variables_initializer())\n",
        "\n",
        "#how many times data need to be shown to model\n",
        "training_epochs = 100"
      ],
      "execution_count": 0,
      "outputs": []
    },
    {
      "cell_type": "code",
      "metadata": {
        "colab_type": "code",
        "id": "Vba1py2rhTkG",
        "colab": {}
      },
      "source": [
        "for epoch in range(training_epochs):\n",
        "            \n",
        "    #Calculate train_op and loss\n",
        "    _, train_loss = sess.run([train_op,loss],feed_dict={x:features, y_:actual_prices})\n",
        "    \n",
        "    if epoch % 10 == 0:\n",
        "        print ('Training loss at step: ', epoch, ' is ', train_loss)"
      ],
      "execution_count": 0,
      "outputs": []
    },
    {
      "cell_type": "code",
      "metadata": {
        "colab_type": "code",
        "id": "q8wIKHdKQ36Q",
        "colab": {}
      },
      "source": [
        "features[0]\n",
        "#these are in different range, normalisation is required"
      ],
      "execution_count": 0,
      "outputs": []
    },
    {
      "cell_type": "code",
      "metadata": {
        "colab_type": "code",
        "id": "CeZwYgeShTkJ",
        "colab": {}
      },
      "source": [
        "sess.close()"
      ],
      "execution_count": 0,
      "outputs": []
    },
    {
      "cell_type": "markdown",
      "metadata": {
        "id": "nkOVtq7J4tVE",
        "colab_type": "text"
      },
      "source": [
        "#After normlaization "
      ]
    },
    {
      "cell_type": "code",
      "metadata": {
        "id": "-D-S4s6N4rjA",
        "colab_type": "code",
        "colab": {}
      },
      "source": [
        "x_n = tf.layers.batch_normalization(x, training=True)"
      ],
      "execution_count": 0,
      "outputs": []
    },
    {
      "cell_type": "code",
      "metadata": {
        "id": "EWWBqTXn44i-",
        "colab_type": "code",
        "colab": {}
      },
      "source": [
        "y = tf.add(tf.matmul(x_n ,W), b, name ='Output')"
      ],
      "execution_count": 0,
      "outputs": []
    },
    {
      "cell_type": "code",
      "metadata": {
        "id": "up_eI86Q6Gom",
        "colab_type": "code",
        "colab": {}
      },
      "source": [
        "loss = tf.reduce_mean(tf.square(y-y_),name='Loss')"
      ],
      "execution_count": 0,
      "outputs": []
    },
    {
      "cell_type": "code",
      "metadata": {
        "id": "_zcoGG7s6KWC",
        "colab_type": "code",
        "colab": {}
      },
      "source": [
        "train_op = tf.train.GradientDescentOptimizer(0.03).minimize(loss)"
      ],
      "execution_count": 0,
      "outputs": []
    },
    {
      "cell_type": "code",
      "metadata": {
        "id": "3flwdQWW5yE4",
        "colab_type": "code",
        "colab": {}
      },
      "source": [
        "#Lets start graph Execution\n",
        "sess1 = tf.Session()\n",
        "\n",
        "# variables need to be initialized before we can use them\n",
        "sess1.run(tf.global_variables_initializer())\n",
        "\n",
        "#how many times data need to be shown to model\n",
        "training_epochs = 100"
      ],
      "execution_count": 0,
      "outputs": []
    },
    {
      "cell_type": "code",
      "metadata": {
        "id": "3_E1pwOx5I0w",
        "colab_type": "code",
        "colab": {}
      },
      "source": [
        "for epoch in range(training_epochs):\n",
        "            \n",
        "    #Calculate train_op and loss\n",
        "    _, train_loss = sess1.run([train_op,loss],feed_dict={x:features, y_:actual_prices})\n",
        "    \n",
        "    if epoch % 10 == 0:\n",
        "        print ('Training loss at step: ', epoch, ' is ', train_loss)"
      ],
      "execution_count": 0,
      "outputs": []
    },
    {
      "cell_type": "code",
      "metadata": {
        "id": "VkkoljWg5bgB",
        "colab_type": "code",
        "colab": {}
      },
      "source": [
        "sess1.close()"
      ],
      "execution_count": 0,
      "outputs": []
    }
  ]
}