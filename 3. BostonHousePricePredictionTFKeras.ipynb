{
  "nbformat": 4,
  "nbformat_minor": 0,
  "metadata": {
    "colab": {
      "name": "3. BostonHousePricePredictionTFKeras.ipynb",
      "provenance": [],
      "authorship_tag": "ABX9TyNrDxCg8A6msOyrPWjkQr/C",
      "include_colab_link": true
    },
    "kernelspec": {
      "name": "python3",
      "display_name": "Python 3"
    }
  },
  "cells": [
    {
      "cell_type": "markdown",
      "metadata": {
        "id": "view-in-github",
        "colab_type": "text"
      },
      "source": [
        "<a href=\"https://colab.research.google.com/github/AdicherlaVenkataSai/NeuralNetworks/blob/master/3.%20BostonHousePricePredictionTFKeras.ipynb\" target=\"_parent\"><img src=\"https://colab.research.google.com/assets/colab-badge.svg\" alt=\"Open In Colab\"/></a>"
      ]
    },
    {
      "cell_type": "markdown",
      "metadata": {
        "id": "EJipCrVe8O12",
        "colab_type": "text"
      },
      "source": [
        "#Introduction\n",
        "Instead of using TF, which is to be coded each and every line\n",
        "\n",
        "we have Keras, simple high level API built upon powerful libraries of Deep learning\n",
        "\n",
        "Google integrated keras modules into TF to make it more simpler to develop the model called TFKeras\n",
        "\n",
        "__________________________________________________________________________________\n",
        "\n",
        "> Building the model\n",
        "1. model = Sequential(); 1st layers op is given as ip to second layer and so on\n",
        "2. model.add(Dense(1, input_shape=(13,1))\n",
        "   * Dense represents y=wx+b \n",
        "   * (1, ) represents 1 equation(can mention any)output\n",
        "   * input_shape(13, ) represents cols :13, rows:empty refers to None, Placeholders, Weights and Bias, Prediction are also done using this\n",
        "3. model.compile(optimizers = 'sgd', loss ='mse') sgd = stochastic gradient descent, mse = mean squared error, loss and GD is done.\n",
        "\n",
        "\n",
        "note: most of the hyperparameters have default values\n",
        "\n",
        "\n",
        "> Exectuing the graph\n",
        "4. model.fit(features, actual_prices, epochs=100), initialises the session, variables(Xavier initialisation), cal the train_op, loss is done\n",
        "5. Even print the loss (default)"
      ]
    },
    {
      "cell_type": "markdown",
      "metadata": {
        "id": "tKsV5ntL_v8-",
        "colab_type": "text"
      },
      "source": [
        "#Implemetation\n",
        "\n",
        "### 0. load tensorflow"
      ]
    },
    {
      "cell_type": "code",
      "metadata": {
        "id": "vDzvYpgE8CCX",
        "colab_type": "code",
        "colab": {
          "base_uri": "https://localhost:8080/",
          "height": 34
        },
        "outputId": "538858a8-c7b8-4afa-e0eb-75a7f3c10ba6"
      },
      "source": [
        "import tensorflow as tf\n",
        "tf.keras.__version__\n"
      ],
      "execution_count": 2,
      "outputs": [
        {
          "output_type": "execute_result",
          "data": {
            "text/plain": [
              "'2.3.0-tf'"
            ]
          },
          "metadata": {
            "tags": []
          },
          "execution_count": 2
        }
      ]
    },
    {
      "cell_type": "code",
      "metadata": {
        "id": "5xAvmP6-AGY8",
        "colab_type": "code",
        "colab": {
          "base_uri": "https://localhost:8080/",
          "height": 51
        },
        "outputId": "44d2f738-64e5-44ae-e7e7-2ccf243690bc"
      },
      "source": [
        "import keras\n",
        "keras.__version__"
      ],
      "execution_count": 3,
      "outputs": [
        {
          "output_type": "stream",
          "text": [
            "Using TensorFlow backend.\n"
          ],
          "name": "stderr"
        },
        {
          "output_type": "execute_result",
          "data": {
            "text/plain": [
              "'2.3.1'"
            ]
          },
          "metadata": {
            "tags": []
          },
          "execution_count": 3
        }
      ]
    },
    {
      "cell_type": "markdown",
      "metadata": {
        "id": "X3cG96gCAkkZ",
        "colab_type": "text"
      },
      "source": [
        "### 1. load data"
      ]
    },
    {
      "cell_type": "code",
      "metadata": {
        "id": "tHXJzfZ4Agci",
        "colab_type": "code",
        "colab": {
          "base_uri": "https://localhost:8080/",
          "height": 51
        },
        "outputId": "ae3a183b-e13a-45cd-881a-130011bce195"
      },
      "source": [
        "from tensorflow.python.keras.datasets import boston_housing\n",
        "\n",
        "#Load data\n",
        "(features, actual_prices),_ = boston_housing.load_data(test_split=0)"
      ],
      "execution_count": 4,
      "outputs": [
        {
          "output_type": "stream",
          "text": [
            "Downloading data from https://storage.googleapis.com/tensorflow/tf-keras-datasets/boston_housing.npz\n",
            "57344/57026 [==============================] - 0s 0us/step\n"
          ],
          "name": "stdout"
        }
      ]
    },
    {
      "cell_type": "code",
      "metadata": {
        "id": "zBNnpG-FAxj8",
        "colab_type": "code",
        "colab": {
          "base_uri": "https://localhost:8080/",
          "height": 68
        },
        "outputId": "c759bbb2-4da9-431d-9df9-82b4f41192f4"
      },
      "source": [
        "print('Number of examples: ', features.shape[0])\n",
        "print('Number of features for each example: ', features.shape[1])\n",
        "print('Shape of actual prices data: ', actual_prices.shape)"
      ],
      "execution_count": 5,
      "outputs": [
        {
          "output_type": "stream",
          "text": [
            "Number of examples:  506\n",
            "Number of features for each example:  13\n",
            "Shape of actual prices data:  (506,)\n"
          ],
          "name": "stdout"
        }
      ]
    },
    {
      "cell_type": "markdown",
      "metadata": {
        "id": "jQ8hxTxuAzl1",
        "colab_type": "text"
      },
      "source": [
        "### 2. Building the graph in keras"
      ]
    },
    {
      "cell_type": "code",
      "metadata": {
        "id": "9mf9RmALA3ny",
        "colab_type": "code",
        "colab": {}
      },
      "source": [
        "#initialize sequential graph\n",
        "model = tf.keras.models.Sequential()\n",
        "\n",
        "#normalize the data\n",
        "model.add(tf.keras.layers.BatchNormalization(input_shape =(13, )))\n",
        "\n",
        "#Dense layer for prediction(weights and bias are declared autiomatically)\n",
        "model.add(tf.keras.layers.Dense(1))\n",
        "\n",
        "#compile the model\n",
        "model.compile(optimizer = 'sgd', loss = 'mse')"
      ],
      "execution_count": 0,
      "outputs": []
    },
    {
      "cell_type": "markdown",
      "metadata": {
        "id": "hB9bSk0nB1nc",
        "colab_type": "text"
      },
      "source": [
        "### 3. Execute the graph"
      ]
    },
    {
      "cell_type": "code",
      "metadata": {
        "id": "4_vrMaRoBjIC",
        "colab_type": "code",
        "colab": {
          "base_uri": "https://localhost:8080/",
          "height": 1000
        },
        "outputId": "243303db-800f-48a3-bcf3-98042ea2f3ea"
      },
      "source": [
        "history = model.fit(features,actual_prices,epochs = 100)"
      ],
      "execution_count": 16,
      "outputs": [
        {
          "output_type": "stream",
          "text": [
            "Epoch 1/100\n",
            "16/16 [==============================] - 0s 1ms/step - loss: 27.9118\n",
            "Epoch 2/100\n",
            "16/16 [==============================] - 0s 1ms/step - loss: 31.1797\n",
            "Epoch 3/100\n",
            "16/16 [==============================] - 0s 1ms/step - loss: 27.0465\n",
            "Epoch 4/100\n",
            "16/16 [==============================] - 0s 1ms/step - loss: 27.4940\n",
            "Epoch 5/100\n",
            "16/16 [==============================] - 0s 1ms/step - loss: 23.4668\n",
            "Epoch 6/100\n",
            "16/16 [==============================] - 0s 1ms/step - loss: 27.1561\n",
            "Epoch 7/100\n",
            "16/16 [==============================] - 0s 1ms/step - loss: 29.7155\n",
            "Epoch 8/100\n",
            "16/16 [==============================] - 0s 1ms/step - loss: 27.2229\n",
            "Epoch 9/100\n",
            "16/16 [==============================] - 0s 1ms/step - loss: 26.5570\n",
            "Epoch 10/100\n",
            "16/16 [==============================] - 0s 1ms/step - loss: 29.8930\n",
            "Epoch 11/100\n",
            "16/16 [==============================] - 0s 1ms/step - loss: 25.6500\n",
            "Epoch 12/100\n",
            "16/16 [==============================] - 0s 1ms/step - loss: 30.5831\n",
            "Epoch 13/100\n",
            "16/16 [==============================] - 0s 1ms/step - loss: 25.0312\n",
            "Epoch 14/100\n",
            "16/16 [==============================] - 0s 1ms/step - loss: 26.1532\n",
            "Epoch 15/100\n",
            "16/16 [==============================] - 0s 1ms/step - loss: 27.8473\n",
            "Epoch 16/100\n",
            "16/16 [==============================] - 0s 1ms/step - loss: 24.2261\n",
            "Epoch 17/100\n",
            "16/16 [==============================] - 0s 1ms/step - loss: 27.3597\n",
            "Epoch 18/100\n",
            "16/16 [==============================] - 0s 1ms/step - loss: 28.4188\n",
            "Epoch 19/100\n",
            "16/16 [==============================] - 0s 2ms/step - loss: 26.2193\n",
            "Epoch 20/100\n",
            "16/16 [==============================] - 0s 1ms/step - loss: 26.0633\n",
            "Epoch 21/100\n",
            "16/16 [==============================] - 0s 1ms/step - loss: 26.9217\n",
            "Epoch 22/100\n",
            "16/16 [==============================] - 0s 1ms/step - loss: 30.6582\n",
            "Epoch 23/100\n",
            "16/16 [==============================] - 0s 1ms/step - loss: 25.7528\n",
            "Epoch 24/100\n",
            "16/16 [==============================] - 0s 1ms/step - loss: 24.9973\n",
            "Epoch 25/100\n",
            "16/16 [==============================] - 0s 1ms/step - loss: 25.5338\n",
            "Epoch 26/100\n",
            "16/16 [==============================] - 0s 1ms/step - loss: 25.7203\n",
            "Epoch 27/100\n",
            "16/16 [==============================] - 0s 1ms/step - loss: 29.0688\n",
            "Epoch 28/100\n",
            "16/16 [==============================] - 0s 1ms/step - loss: 28.5669\n",
            "Epoch 29/100\n",
            "16/16 [==============================] - 0s 1ms/step - loss: 25.0707\n",
            "Epoch 30/100\n",
            "16/16 [==============================] - 0s 1ms/step - loss: 28.6315\n",
            "Epoch 31/100\n",
            "16/16 [==============================] - 0s 1ms/step - loss: 28.8486\n",
            "Epoch 32/100\n",
            "16/16 [==============================] - 0s 1ms/step - loss: 30.7920\n",
            "Epoch 33/100\n",
            "16/16 [==============================] - 0s 1ms/step - loss: 27.8218\n",
            "Epoch 34/100\n",
            "16/16 [==============================] - 0s 1ms/step - loss: 27.5540\n",
            "Epoch 35/100\n",
            "16/16 [==============================] - 0s 1ms/step - loss: 28.7837\n",
            "Epoch 36/100\n",
            "16/16 [==============================] - 0s 1ms/step - loss: 28.2348\n",
            "Epoch 37/100\n",
            "16/16 [==============================] - 0s 1ms/step - loss: 27.2030\n",
            "Epoch 38/100\n",
            "16/16 [==============================] - 0s 1ms/step - loss: 28.7774\n",
            "Epoch 39/100\n",
            "16/16 [==============================] - 0s 1ms/step - loss: 26.6420\n",
            "Epoch 40/100\n",
            "16/16 [==============================] - 0s 1ms/step - loss: 26.5838\n",
            "Epoch 41/100\n",
            "16/16 [==============================] - 0s 1ms/step - loss: 27.8807\n",
            "Epoch 42/100\n",
            "16/16 [==============================] - 0s 1ms/step - loss: 26.9393\n",
            "Epoch 43/100\n",
            "16/16 [==============================] - 0s 1ms/step - loss: 29.5301\n",
            "Epoch 44/100\n",
            "16/16 [==============================] - 0s 1ms/step - loss: 27.7953\n",
            "Epoch 45/100\n",
            "16/16 [==============================] - 0s 1ms/step - loss: 27.9877\n",
            "Epoch 46/100\n",
            "16/16 [==============================] - 0s 1ms/step - loss: 27.4885\n",
            "Epoch 47/100\n",
            "16/16 [==============================] - 0s 1ms/step - loss: 27.2191\n",
            "Epoch 48/100\n",
            "16/16 [==============================] - 0s 1ms/step - loss: 28.3280\n",
            "Epoch 49/100\n",
            "16/16 [==============================] - 0s 1ms/step - loss: 25.2129\n",
            "Epoch 50/100\n",
            "16/16 [==============================] - 0s 1ms/step - loss: 24.3614\n",
            "Epoch 51/100\n",
            "16/16 [==============================] - 0s 2ms/step - loss: 30.6531\n",
            "Epoch 52/100\n",
            "16/16 [==============================] - 0s 1ms/step - loss: 27.1518\n",
            "Epoch 53/100\n",
            "16/16 [==============================] - 0s 1ms/step - loss: 25.8883\n",
            "Epoch 54/100\n",
            "16/16 [==============================] - 0s 1ms/step - loss: 28.7560\n",
            "Epoch 55/100\n",
            "16/16 [==============================] - 0s 1ms/step - loss: 28.5083\n",
            "Epoch 56/100\n",
            "16/16 [==============================] - 0s 1ms/step - loss: 27.8268\n",
            "Epoch 57/100\n",
            "16/16 [==============================] - 0s 1ms/step - loss: 29.1042\n",
            "Epoch 58/100\n",
            "16/16 [==============================] - 0s 1ms/step - loss: 28.6503\n",
            "Epoch 59/100\n",
            "16/16 [==============================] - 0s 1ms/step - loss: 27.1879\n",
            "Epoch 60/100\n",
            "16/16 [==============================] - 0s 1ms/step - loss: 24.9525\n",
            "Epoch 61/100\n",
            "16/16 [==============================] - 0s 1ms/step - loss: 28.1259\n",
            "Epoch 62/100\n",
            "16/16 [==============================] - 0s 1ms/step - loss: 26.0592\n",
            "Epoch 63/100\n",
            "16/16 [==============================] - 0s 1ms/step - loss: 27.0043\n",
            "Epoch 64/100\n",
            "16/16 [==============================] - 0s 1ms/step - loss: 32.0364\n",
            "Epoch 65/100\n",
            "16/16 [==============================] - 0s 1ms/step - loss: 23.1766\n",
            "Epoch 66/100\n",
            "16/16 [==============================] - 0s 1ms/step - loss: 28.8557\n",
            "Epoch 67/100\n",
            "16/16 [==============================] - 0s 1ms/step - loss: 25.9450\n",
            "Epoch 68/100\n",
            "16/16 [==============================] - 0s 1ms/step - loss: 31.1326\n",
            "Epoch 69/100\n",
            "16/16 [==============================] - 0s 1ms/step - loss: 28.9388\n",
            "Epoch 70/100\n",
            "16/16 [==============================] - 0s 1ms/step - loss: 25.4382\n",
            "Epoch 71/100\n",
            "16/16 [==============================] - 0s 1ms/step - loss: 28.8742\n",
            "Epoch 72/100\n",
            "16/16 [==============================] - 0s 1ms/step - loss: 29.2920\n",
            "Epoch 73/100\n",
            "16/16 [==============================] - 0s 1ms/step - loss: 25.3029\n",
            "Epoch 74/100\n",
            "16/16 [==============================] - 0s 1ms/step - loss: 28.6536\n",
            "Epoch 75/100\n",
            "16/16 [==============================] - 0s 1ms/step - loss: 33.0070\n",
            "Epoch 76/100\n",
            "16/16 [==============================] - 0s 1ms/step - loss: 29.8746\n",
            "Epoch 77/100\n",
            "16/16 [==============================] - 0s 1ms/step - loss: 28.5881\n",
            "Epoch 78/100\n",
            "16/16 [==============================] - 0s 1ms/step - loss: 28.9187\n",
            "Epoch 79/100\n",
            "16/16 [==============================] - 0s 1ms/step - loss: 28.9180\n",
            "Epoch 80/100\n",
            "16/16 [==============================] - 0s 1ms/step - loss: 26.2504\n",
            "Epoch 81/100\n",
            "16/16 [==============================] - 0s 1ms/step - loss: 27.1029\n",
            "Epoch 82/100\n",
            "16/16 [==============================] - 0s 1ms/step - loss: 28.6536\n",
            "Epoch 83/100\n",
            "16/16 [==============================] - 0s 1ms/step - loss: 30.9340\n",
            "Epoch 84/100\n",
            "16/16 [==============================] - 0s 1ms/step - loss: 26.4396\n",
            "Epoch 85/100\n",
            "16/16 [==============================] - 0s 1ms/step - loss: 27.7067\n",
            "Epoch 86/100\n",
            "16/16 [==============================] - 0s 1ms/step - loss: 26.5755\n",
            "Epoch 87/100\n",
            "16/16 [==============================] - 0s 1ms/step - loss: 27.2478\n",
            "Epoch 88/100\n",
            "16/16 [==============================] - 0s 1ms/step - loss: 29.5986\n",
            "Epoch 89/100\n",
            "16/16 [==============================] - 0s 1ms/step - loss: 29.7327\n",
            "Epoch 90/100\n",
            "16/16 [==============================] - 0s 1ms/step - loss: 28.7821\n",
            "Epoch 91/100\n",
            "16/16 [==============================] - 0s 1ms/step - loss: 27.6593\n",
            "Epoch 92/100\n",
            "16/16 [==============================] - 0s 1ms/step - loss: 26.0358\n",
            "Epoch 93/100\n",
            "16/16 [==============================] - 0s 1ms/step - loss: 27.8971\n",
            "Epoch 94/100\n",
            "16/16 [==============================] - 0s 1ms/step - loss: 27.6168\n",
            "Epoch 95/100\n",
            "16/16 [==============================] - 0s 1ms/step - loss: 24.8766\n",
            "Epoch 96/100\n",
            "16/16 [==============================] - 0s 1ms/step - loss: 28.1485\n",
            "Epoch 97/100\n",
            "16/16 [==============================] - 0s 1ms/step - loss: 25.3577\n",
            "Epoch 98/100\n",
            "16/16 [==============================] - 0s 1ms/step - loss: 24.9123\n",
            "Epoch 99/100\n",
            "16/16 [==============================] - 0s 1ms/step - loss: 25.0657\n",
            "Epoch 100/100\n",
            "16/16 [==============================] - 0s 1ms/step - loss: 27.9422\n"
          ],
          "name": "stdout"
        }
      ]
    },
    {
      "cell_type": "markdown",
      "metadata": {
        "id": "vu6YuitJDbjm",
        "colab_type": "text"
      },
      "source": [
        "# why there is change in loss?\n",
        "\n",
        "1. In the low level TF code we have mentioned lr = 0.03, but here in TFKeras we didn't mention any as such, so it considers the default values i.e; lr = 0.01\n",
        "for the case of BostonHousePricePrediction the lr = 0.01 performs well as compared to value 0.03\n",
        "\n",
        "2. The variables are initialized to zero in TF low level code, here TFKeras uses Xaviers initialisation\n",
        "\n",
        "Considering these changes in the TFKeras , the loss  might have change in both models  84, 23 respectively"
      ]
    },
    {
      "cell_type": "code",
      "metadata": {
        "id": "yt0taoSwB_No",
        "colab_type": "code",
        "colab": {
          "base_uri": "https://localhost:8080/",
          "height": 68
        },
        "outputId": "1e47acc0-d6d3-4f5f-9208-caa2e4307ca1"
      },
      "source": [
        "!pip install h5py"
      ],
      "execution_count": 18,
      "outputs": [
        {
          "output_type": "stream",
          "text": [
            "Requirement already satisfied: h5py in /usr/local/lib/python3.6/dist-packages (2.10.0)\n",
            "Requirement already satisfied: six in /usr/local/lib/python3.6/dist-packages (from h5py) (1.12.0)\n",
            "Requirement already satisfied: numpy>=1.7 in /usr/local/lib/python3.6/dist-packages (from h5py) (1.18.4)\n"
          ],
          "name": "stdout"
        }
      ]
    },
    {
      "cell_type": "code",
      "metadata": {
        "id": "wxtV8VEPFIL7",
        "colab_type": "code",
        "colab": {}
      },
      "source": [
        "model.save('/tmp/BostonHousePricePredictionTFKeras.h5')"
      ],
      "execution_count": 0,
      "outputs": []
    },
    {
      "cell_type": "code",
      "metadata": {
        "id": "C7NXnM_HGfsk",
        "colab_type": "code",
        "colab": {}
      },
      "source": [
        ""
      ],
      "execution_count": 0,
      "outputs": []
    }
  ]
}